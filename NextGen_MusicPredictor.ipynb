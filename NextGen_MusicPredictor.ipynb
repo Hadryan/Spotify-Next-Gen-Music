{
 "cells": [
  {
   "cell_type": "markdown",
   "metadata": {},
   "source": [
    "# NEXT GENERATION MUSIC PREDICTOR SYSTEM "
   ]
  },
  {
   "cell_type": "markdown",
   "metadata": {},
   "source": [
    "* Problem Statement: NextGen Music system will predict how popular a new song will be. We are trying to investigate how old songs can be used to predict the popularity of the new songs based on the features of the song and their past popularity on old songs from 1991-2018. We will focus on few points like certain characteristics for hit songs and does the new song fall under this hit criteria.It can help a music company to decide the features/genre of the new music album so that it has high chances of success."
   ]
  },
  {
   "cell_type": "markdown",
   "metadata": {},
   "source": [
    "* Data Set: We have used Spotify data set for the analysis. Data set containing audio data from 1991- 2018 and 3 listener data set. Now we have merged the data of 27 years into one combined file named  \"combined.csv\" which we are reading on the notebook below."
   ]
  },
  {
   "cell_type": "code",
   "execution_count": 69,
   "metadata": {},
   "outputs": [],
   "source": [
    "import os\n",
    "import glob \n",
    "import pandas as pd\n",
    "import zipfile"
   ]
  },
  {
   "cell_type": "code",
   "execution_count": 70,
   "metadata": {},
   "outputs": [],
   "source": [
    "where_zip_is = '/home/alium/Downloads/'"
   ]
  },
  {
   "cell_type": "code",
   "execution_count": 71,
   "metadata": {},
   "outputs": [],
   "source": [
    "zip_ref = zipfile.ZipFile(where_zip_is+'spotify_data_for_students.zip', 'r')\n",
    "zip_ref.extractall('team23_working_dir')\n",
    "zip_ref.close()"
   ]
  },
  {
   "cell_type": "code",
   "execution_count": 72,
   "metadata": {},
   "outputs": [],
   "source": [
    "path = where_zip_is+'team23_working_dir/spotify_data_for_students/music_data'"
   ]
  },
  {
   "cell_type": "code",
   "execution_count": 76,
   "metadata": {},
   "outputs": [],
   "source": [
    "# following is borrowed from https://medium.freecodecamp.org/how-to-combine-multiple-csv-files-with-8-lines-of-code-265183e0854\n",
    "os.chdir(path)\n",
    "\n",
    "extension = 'csv'\n",
    "all_filenames = [i for i in glob.glob('*.{}'.format(extension))]\n",
    "\n",
    "combined_csv = pd.concat([pd.read_csv(f) for f in all_filenames ])\n",
    "combined_csv.to_csv( \"combined_csv.csv\", index=False)"
   ]
  },
  {
   "cell_type": "code",
   "execution_count": 77,
   "metadata": {},
   "outputs": [],
   "source": [
    "music = pd.read_csv(path+'/combined_csv.csv')"
   ]
  },
  {
   "cell_type": "code",
   "execution_count": 79,
   "metadata": {
    "scrolled": false
   },
   "outputs": [
    {
     "name": "stdout",
     "output_type": "stream",
     "text": [
      "   Unnamed: 0  acousticness                album_id album_name  \\\n",
      "0           0        0.0227  49Teqcxp4dOBayTBtR3j5W       1999   \n",
      "\n",
      "                                        analysis_url  \\\n",
      "0  https://api.spotify.com/v1/audio-analysis/05mA...   \n",
      "\n",
      "                                      artist_ids            artist_names  \\\n",
      "0  25uiPmTg16RbhZWAqwLBy5,3WGpXCj9YhhfX11TToZcXP  Charli XCX,Troye Sivan   \n",
      "\n",
      "   danceability  disc_number  duration_ms   ...    popularity  \\\n",
      "0         0.739            1       189000   ...            84   \n",
      "\n",
      "                                         preview_url                 song_id  \\\n",
      "0  https://p.scdn.co/mp3-preview/18e5f087ee0be8f2...  05mAIVLkIWc2d1UBYZBCp8   \n",
      "\n",
      "   song_name  speechiness    tempo  time_signature  \\\n",
      "0       1999       0.0329  124.016             4.0   \n",
      "\n",
      "                                          track_href track_number valence  \n",
      "0  https://api.spotify.com/v1/tracks/05mAIVLkIWc2...            1   0.659  \n",
      "\n",
      "[1 rows x 26 columns]\n",
      "(265120, 26)\n"
     ]
    }
   ],
   "source": [
    "print(music.head(1))\n",
    "print(music.shape)"
   ]
  },
  {
   "cell_type": "markdown",
   "metadata": {},
   "source": [
    "### Heavy duty cleaning"
   ]
  },
  {
   "cell_type": "code",
   "execution_count": 80,
   "metadata": {},
   "outputs": [
    {
     "data": {
      "text/plain": [
       "Unnamed: 0              0\n",
       "acousticness            0\n",
       "album_id                0\n",
       "album_name              0\n",
       "analysis_url            0\n",
       "artist_ids              0\n",
       "artist_names            0\n",
       "danceability            1\n",
       "disc_number             0\n",
       "duration_ms             0\n",
       "energy                  0\n",
       "instrumentalness        0\n",
       "key                     0\n",
       "liveness                0\n",
       "loudness                0\n",
       "mode                    0\n",
       "popularity              0\n",
       "preview_url         35105\n",
       "song_id                 0\n",
       "song_name               0\n",
       "speechiness             1\n",
       "tempo                   0\n",
       "time_signature          1\n",
       "track_href              0\n",
       "track_number            0\n",
       "valence                 1\n",
       "dtype: int64"
      ]
     },
     "execution_count": 80,
     "metadata": {},
     "output_type": "execute_result"
    }
   ],
   "source": [
    "music.isnull().sum()"
   ]
  },
  {
   "cell_type": "code",
   "execution_count": 81,
   "metadata": {},
   "outputs": [],
   "source": [
    "music_backup=music\n",
    "music = music.drop(['preview_url'],axis=1)"
   ]
  },
  {
   "cell_type": "code",
   "execution_count": 82,
   "metadata": {},
   "outputs": [
    {
     "data": {
      "text/plain": [
       "Unnamed: 0          0\n",
       "acousticness        0\n",
       "album_id            0\n",
       "album_name          0\n",
       "analysis_url        0\n",
       "artist_ids          0\n",
       "artist_names        0\n",
       "danceability        0\n",
       "disc_number         0\n",
       "duration_ms         0\n",
       "energy              0\n",
       "instrumentalness    0\n",
       "key                 0\n",
       "liveness            0\n",
       "loudness            0\n",
       "mode                0\n",
       "popularity          0\n",
       "song_id             0\n",
       "song_name           0\n",
       "speechiness         0\n",
       "tempo               0\n",
       "time_signature      0\n",
       "track_href          0\n",
       "track_number        0\n",
       "valence             0\n",
       "dtype: int64"
      ]
     },
     "execution_count": 82,
     "metadata": {},
     "output_type": "execute_result"
    }
   ],
   "source": [
    "music=music.dropna()\n",
    "music.isnull().sum()"
   ]
  },
  {
   "cell_type": "code",
   "execution_count": 92,
   "metadata": {},
   "outputs": [
    {
     "name": "stdout",
     "output_type": "stream",
     "text": [
      "<class 'pandas.core.frame.DataFrame'>\n",
      "Int64Index: 265119 entries, 0 to 265119\n",
      "Data columns (total 14 columns):\n",
      "acousticness         265119 non-null float64\n",
      "danceability         265119 non-null float64\n",
      "energy               265119 non-null float64\n",
      "instrumentalness     265119 non-null float64\n",
      "key                  265119 non-null int64\n",
      "liveness             265119 non-null float64\n",
      "loudness             265119 non-null float64\n",
      "mode                 265119 non-null int64\n",
      "popularity           265119 non-null int64\n",
      "speechiness          265119 non-null float64\n",
      "tempo                265119 non-null float64\n",
      "time_signature       265119 non-null float64\n",
      "valence              265119 non-null float64\n",
      "Popularity_factor    265119 non-null int64\n",
      "dtypes: float64(10), int64(4)\n",
      "memory usage: 30.3 MB\n"
     ]
    }
   ],
   "source": [
    "music.info()"
   ]
  },
  {
   "cell_type": "markdown",
   "metadata": {},
   "source": [
    "### Looks better!"
   ]
  },
  {
   "cell_type": "markdown",
   "metadata": {},
   "source": [
    "* We will be dropping  unnecessary columns (Attributes) which are not required for our analysis."
   ]
  },
  {
   "cell_type": "code",
   "execution_count": null,
   "metadata": {},
   "outputs": [],
   "source": [
    "#drop the unecessary columns\n",
    "music=music.drop(['Unnamed: 0','album_id','artist_ids','song_name','artist_names','album_name','analysis_url','disc_number','duration_ms','song_id','track_href','track_number'], axis=1)"
   ]
  },
  {
   "cell_type": "markdown",
   "metadata": {},
   "source": [
    "* Calculation of mean is done and this is the most important part as we will be considering the Song hit prediction based on the mean value of the popularity attribute."
   ]
  },
  {
   "cell_type": "code",
   "execution_count": 94,
   "metadata": {},
   "outputs": [
    {
     "data": {
      "text/plain": [
       "9.819801673965276"
      ]
     },
     "execution_count": 94,
     "metadata": {},
     "output_type": "execute_result"
    }
   ],
   "source": [
    "#calculating the mean of popularity\n",
    "pop_mean=music[\"popularity\"].mean()\n",
    "pop_mean"
   ]
  },
  {
   "cell_type": "markdown",
   "metadata": {},
   "source": [
    "* Sorting the data based on the \" Popularity Attribute \" which has popularity value greater than the Mean value of the dataset. Where \"1\" and \"0\" are named as the indicator wheather it is greater than mean or not. If it is 1 then True it is greater, else \"0\" and new attribute is generated as \"Popularity_Factor\"."
   ]
  },
  {
   "cell_type": "code",
   "execution_count": 97,
   "metadata": {},
   "outputs": [
    {
     "data": {
      "text/html": [
       "<div>\n",
       "<style scoped>\n",
       "    .dataframe tbody tr th:only-of-type {\n",
       "        vertical-align: middle;\n",
       "    }\n",
       "\n",
       "    .dataframe tbody tr th {\n",
       "        vertical-align: top;\n",
       "    }\n",
       "\n",
       "    .dataframe thead th {\n",
       "        text-align: right;\n",
       "    }\n",
       "</style>\n",
       "<table border=\"1\" class=\"dataframe\">\n",
       "  <thead>\n",
       "    <tr style=\"text-align: right;\">\n",
       "      <th></th>\n",
       "      <th>acousticness</th>\n",
       "      <th>danceability</th>\n",
       "      <th>energy</th>\n",
       "      <th>instrumentalness</th>\n",
       "      <th>key</th>\n",
       "      <th>liveness</th>\n",
       "      <th>loudness</th>\n",
       "      <th>mode</th>\n",
       "      <th>popularity</th>\n",
       "      <th>speechiness</th>\n",
       "      <th>tempo</th>\n",
       "      <th>time_signature</th>\n",
       "      <th>valence</th>\n",
       "      <th>Popularity_factor</th>\n",
       "    </tr>\n",
       "  </thead>\n",
       "  <tbody>\n",
       "    <tr>\n",
       "      <th>0</th>\n",
       "      <td>0.0227</td>\n",
       "      <td>0.739</td>\n",
       "      <td>0.742</td>\n",
       "      <td>0.000001</td>\n",
       "      <td>7</td>\n",
       "      <td>0.2290</td>\n",
       "      <td>-4.586</td>\n",
       "      <td>1</td>\n",
       "      <td>84</td>\n",
       "      <td>0.0329</td>\n",
       "      <td>124.016</td>\n",
       "      <td>4.0</td>\n",
       "      <td>0.659</td>\n",
       "      <td>1</td>\n",
       "    </tr>\n",
       "    <tr>\n",
       "      <th>1</th>\n",
       "      <td>0.2530</td>\n",
       "      <td>0.811</td>\n",
       "      <td>0.570</td>\n",
       "      <td>0.000000</td>\n",
       "      <td>5</td>\n",
       "      <td>0.1480</td>\n",
       "      <td>-8.093</td>\n",
       "      <td>1</td>\n",
       "      <td>72</td>\n",
       "      <td>0.1290</td>\n",
       "      <td>128.066</td>\n",
       "      <td>4.0</td>\n",
       "      <td>0.814</td>\n",
       "      <td>1</td>\n",
       "    </tr>\n",
       "    <tr>\n",
       "      <th>2</th>\n",
       "      <td>0.9560</td>\n",
       "      <td>0.176</td>\n",
       "      <td>0.153</td>\n",
       "      <td>0.000120</td>\n",
       "      <td>0</td>\n",
       "      <td>0.1580</td>\n",
       "      <td>-15.969</td>\n",
       "      <td>1</td>\n",
       "      <td>69</td>\n",
       "      <td>0.0365</td>\n",
       "      <td>84.741</td>\n",
       "      <td>1.0</td>\n",
       "      <td>0.157</td>\n",
       "      <td>1</td>\n",
       "    </tr>\n",
       "    <tr>\n",
       "      <th>3</th>\n",
       "      <td>0.1370</td>\n",
       "      <td>0.866</td>\n",
       "      <td>0.730</td>\n",
       "      <td>0.000000</td>\n",
       "      <td>5</td>\n",
       "      <td>0.0843</td>\n",
       "      <td>-8.201</td>\n",
       "      <td>1</td>\n",
       "      <td>67</td>\n",
       "      <td>0.0767</td>\n",
       "      <td>118.523</td>\n",
       "      <td>4.0</td>\n",
       "      <td>0.625</td>\n",
       "      <td>1</td>\n",
       "    </tr>\n",
       "    <tr>\n",
       "      <th>4</th>\n",
       "      <td>0.8040</td>\n",
       "      <td>0.607</td>\n",
       "      <td>0.103</td>\n",
       "      <td>0.000000</td>\n",
       "      <td>9</td>\n",
       "      <td>0.0760</td>\n",
       "      <td>-14.405</td>\n",
       "      <td>1</td>\n",
       "      <td>68</td>\n",
       "      <td>0.0404</td>\n",
       "      <td>110.378</td>\n",
       "      <td>4.0</td>\n",
       "      <td>0.341</td>\n",
       "      <td>1</td>\n",
       "    </tr>\n",
       "  </tbody>\n",
       "</table>\n",
       "</div>"
      ],
      "text/plain": [
       "   acousticness  danceability  energy  instrumentalness  key  liveness  \\\n",
       "0        0.0227         0.739   0.742          0.000001    7    0.2290   \n",
       "1        0.2530         0.811   0.570          0.000000    5    0.1480   \n",
       "2        0.9560         0.176   0.153          0.000120    0    0.1580   \n",
       "3        0.1370         0.866   0.730          0.000000    5    0.0843   \n",
       "4        0.8040         0.607   0.103          0.000000    9    0.0760   \n",
       "\n",
       "   loudness  mode  popularity  speechiness    tempo  time_signature  valence  \\\n",
       "0    -4.586     1          84       0.0329  124.016             4.0    0.659   \n",
       "1    -8.093     1          72       0.1290  128.066             4.0    0.814   \n",
       "2   -15.969     1          69       0.0365   84.741             1.0    0.157   \n",
       "3    -8.201     1          67       0.0767  118.523             4.0    0.625   \n",
       "4   -14.405     1          68       0.0404  110.378             4.0    0.341   \n",
       "\n",
       "   Popularity_factor  \n",
       "0                  1  \n",
       "1                  1  \n",
       "2                  1  \n",
       "3                  1  \n",
       "4                  1  "
      ]
     },
     "execution_count": 97,
     "metadata": {},
     "output_type": "execute_result"
    }
   ],
   "source": [
    "# making a series where true is entered if popularity value>mean else False\n",
    "popularity_factor=music[\"popularity\"]>pop_mean\n",
    "#adding popularity factor as a column to the music dataframe with values as 0 and 1\n",
    "music[\"Popularity_factor\"]=popularity_factor.astype(int)\n",
    "music.head()\n"
   ]
  },
  {
   "cell_type": "code",
   "execution_count": 101,
   "metadata": {},
   "outputs": [],
   "source": [
    "X=music[feature_cols]\n",
    "Y=music['Popularity_factor']"
   ]
  },
  {
   "cell_type": "markdown",
   "metadata": {},
   "source": [
    "* Splitting up of test and train data"
   ]
  },
  {
   "cell_type": "code",
   "execution_count": 103,
   "metadata": {},
   "outputs": [],
   "source": [
    "from sklearn.model_selection import train_test_split"
   ]
  },
  {
   "cell_type": "code",
   "execution_count": 104,
   "metadata": {},
   "outputs": [
    {
     "name": "stdout",
     "output_type": "stream",
     "text": [
      "(185583, 10)\n",
      "(79536, 10)\n"
     ]
    }
   ],
   "source": [
    "from sklearn import model_selection\n",
    "X_train, X_test, Y_train, Y_test = train_test_split(X, Y, test_size=0.30)\n",
    "print(X_train.shape)\n",
    "print(X_test.shape)"
   ]
  },
  {
   "cell_type": "markdown",
   "metadata": {},
   "source": [
    "* We are applying \"Logistic Regression\" on the Test and Train data to predict wheather the future songs  would be a \"Hit\" or a \"Not Hit\"."
   ]
  },
  {
   "cell_type": "code",
   "execution_count": 106,
   "metadata": {},
   "outputs": [],
   "source": [
    "from sklearn.linear_model import LogisticRegression\n",
    "from sklearn.metrics import confusion_matrix\n",
    "model = LogisticRegression()\n",
    "model.fit(X_train, Y_train)\n",
    "predicted = model.predict(X_test)\n",
    "matrix = confusion_matrix(Y_test, predicted)"
   ]
  },
  {
   "cell_type": "markdown",
   "metadata": {},
   "source": [
    "* Evaluating the model with confusion matrix and classification Report for \"Logistic Regression Model\"."
   ]
  },
  {
   "cell_type": "code",
   "execution_count": 107,
   "metadata": {},
   "outputs": [
    {
     "name": "stdout",
     "output_type": "stream",
     "text": [
      "Confusion Matrix:\n",
      "[[44348  4259]\n",
      " [25100  5829]]\n",
      "Classification Report:\n",
      "             precision    recall  f1-score   support\n",
      "\n",
      "          0       0.64      0.91      0.75     48607\n",
      "          1       0.58      0.19      0.28     30929\n",
      "\n",
      "avg / total       0.61      0.63      0.57     79536\n",
      "\n",
      "Accuracy is:  0.6308715550191109\n"
     ]
    }
   ],
   "source": [
    "import numpy as np\n",
    "from sklearn.metrics import classification_report\n",
    "predicted = model.predict(X_test)\n",
    "matrix = confusion_matrix(Y_test, predicted)\n",
    "print(\"Confusion Matrix:\")\n",
    "print(matrix)\n",
    "report = classification_report(Y_test, predicted)\n",
    "print(\"Classification Report:\")\n",
    "print(report)\n",
    "accuracy=np.mean(predicted==Y_test)\n",
    "print(\"Accuracy is: \",accuracy)\n",
    "\n",
    "#The precision is the ratio tp / (tp + fp) where tp is the number of true positives and fp the number of false positives. The precision is intuitively the ability of the classifier not to label as positive a sample that is negative.\n",
    "#The recall is the ratio t / (tp + fn) where tp is the number of true positives and fn the number of false negatives. The recall is intuitively the ability of the classifier to find all the positive samples.\n",
    "#The F-beta score can be interpreted as a weighted harmonic mean of the precision and recall, where an F-beta score reaches its best value at 1 and worst score at 0.\n",
    "#The F-beta score weights recall more than precision by a factor of beta. beta == 1.0 means recall and precision are equally important.\n",
    "#The support is the number of occurrences of each class in y_true."
   ]
  },
  {
   "cell_type": "markdown",
   "metadata": {},
   "source": [
    "* Plotting the Confusion matrix \"Without Normalization\" and with \"Normalization\"."
   ]
  },
  {
   "cell_type": "code",
   "execution_count": 110,
   "metadata": {},
   "outputs": [
    {
     "name": "stdout",
     "output_type": "stream",
     "text": [
      "Confusion matrix, without normalization\n",
      "[[44348  4259]\n",
      " [25100  5829]]\n",
      "Normalized confusion matrix\n",
      "[[0.91 0.09]\n",
      " [0.81 0.19]]\n"
     ]
    },
    {
     "data": {
      "image/png": "[encoded data removed]",
      "text/plain": [
       "<Figure size 432x288 with 2 Axes>"
      ]
     },
     "metadata": {},
     "output_type": "display_data"
    },
    {
     "data": {
      "image/png": "[encoded data removed]",
      "text/plain": [
       "<Figure size 432x288 with 2 Axes>"
      ]
     },
     "metadata": {},
     "output_type": "display_data"
    }
   ],
   "source": [
    "import matplotlib.pyplot as plt\n",
    "import itertools\n",
    "def plot_confusion_matrix(cm,\n",
    "                          normalize=False,\n",
    "                          title='Confusion matrix',\n",
    "                          cmap=plt.cm.Blues):\n",
    "    \"\"\"\n",
    "    This function prints and plots the confusion matrix.\n",
    "    Normalization can be applied by setting `normalize=True`.\n",
    "    \"\"\"\n",
    "    if normalize:\n",
    "        cm = cm.astype('float') / cm.sum(axis=1)[:, np.newaxis]\n",
    "        print(\"Normalized confusion matrix\")\n",
    "    else:\n",
    "        print('Confusion matrix, without normalization')\n",
    " \n",
    "    print(cm)\n",
    " \n",
    "    plt.imshow(cm, interpolation='nearest', cmap=cmap)\n",
    "    plt.title(title)\n",
    "    plt.colorbar()\n",
    " \n",
    "    fmt = '.2f' if normalize else 'd'\n",
    "    thresh = cm.max() / 2.\n",
    "    for i, j in itertools.product(range(cm.shape[0]), range(cm.shape[1])):\n",
    "        plt.text(j, i, format(cm[i, j], fmt),\n",
    "                 horizontalalignment=\"center\",\n",
    "                 color=\"white\" if cm[i, j] > thresh else \"black\")\n",
    " \n",
    "    plt.tight_layout()\n",
    "    plt.ylabel('True label')\n",
    "    plt.xlabel('Predicted label')\n",
    " \n",
    "# Compute confusion matrix\n",
    "np.set_printoptions(precision=2)\n",
    " \n",
    "# Plot non-normalized confusion matrix\n",
    "plt.figure()\n",
    "plot_confusion_matrix(matrix,\n",
    "                      title='Confusion matrix, without normalization')\n",
    " \n",
    "# Plot normalized confusion matrix\n",
    "plt.figure()\n",
    "plot_confusion_matrix(matrix, normalize=True,\n",
    "                      title='Normalized confusion matrix')\n",
    " \n",
    "plt.show()"
   ]
  },
  {
   "cell_type": "markdown",
   "metadata": {},
   "source": [
    "* We are applying \"Random Forest\" on the Test and Train data to predict wheather the future songs  would be a \"Hit\" or a \"Not Hit\"."
   ]
  },
  {
   "cell_type": "markdown",
   "metadata": {},
   "source": [
    "### ExtraTreesClassifier*  vs RandomForestClassifier "
   ]
  },
  {
   "cell_type": "markdown",
   "metadata": {},
   "source": [
    "* from https://stackoverflow.com/questions/22409855/randomforestclassifier-vs-extratreesclassifier-in-scikit-learn  \n",
    "... the differences for ET:\n",
    "\n",
    "    1) When choosing variables at a split, samples are drawn from the entire training set instead of a bootstrap sample of the training set.\n",
    "\n",
    "    2) Splits are chosen completely at random from the range of values in the sample at each split.\n",
    "\n",
    "    The result from these two things are many more \"leaves\"."
   ]
  },
  {
   "cell_type": "markdown",
   "metadata": {},
   "source": [
    "* ET is mostly used to see feature importance"
   ]
  },
  {
   "cell_type": "code",
   "execution_count": 122,
   "metadata": {},
   "outputs": [],
   "source": [
    "from sklearn.ensemble import ExtraTreesClassifier \n",
    "forest = ExtraTreesClassifier(n_estimators=20)\n",
    "\n",
    "forest.fit(X, Y)\n",
    "importances = forest.feature_importances_\n",
    "std = np.std([tree.feature_importances_ for tree in forest.estimators_],\n",
    "             axis=0)\n",
    "indices = np.argsort(importances)[::-1]\n",
    "fnames = [feature_cols[i] for i in indices]"
   ]
  },
  {
   "cell_type": "code",
   "execution_count": 123,
   "metadata": {},
   "outputs": [
    {
     "data": {
      "image/png": "[encoded data removed]",
      "text/plain": [
       "<Figure size 432x288 with 1 Axes>"
      ]
     },
     "metadata": {},
     "output_type": "display_data"
    }
   ],
   "source": [
    "plt.figure()\n",
    "plt.title(\"Feature importances\")\n",
    "plt.bar(range(X.shape[1]), importances[indices],\n",
    "       color=\"b\", yerr=std[indices], align=\"center\")\n",
    "plt.xticks(range(X.shape[1]), fnames, rotation=90)\n",
    "plt.xlim([-1, X.shape[1]])\n",
    "plt.show()"
   ]
  },
  {
   "cell_type": "markdown",
   "metadata": {},
   "source": [
    "* Predicting the accuracy for \"Random Forest\" Model."
   ]
  },
  {
   "cell_type": "code",
   "execution_count": 127,
   "metadata": {},
   "outputs": [],
   "source": [
    "from sklearn.ensemble import RandomForestClassifier\n",
    "rfc=RandomForestClassifier(n_estimators=20)\n",
    "\n",
    "#fit the data\n",
    "rfc.fit(X_train,Y_train)\n",
    "\n",
    "Y_pred_rfc=rfc.predict(X_test)\n",
    "\n",
    "matrix_rfc = confusion_matrix(Y_test, Y_pred_rfc)"
   ]
  },
  {
   "cell_type": "code",
   "execution_count": 128,
   "metadata": {},
   "outputs": [
    {
     "name": "stdout",
     "output_type": "stream",
     "text": [
      "Confusion Matrix:\n",
      "[[40786  7821]\n",
      " [17558 13371]]\n",
      "Classification Report:\n",
      "             precision    recall  f1-score   support\n",
      "\n",
      "          0       0.70      0.84      0.76     48607\n",
      "          1       0.63      0.43      0.51     30929\n",
      "\n",
      "avg / total       0.67      0.68      0.67     79536\n",
      "\n",
      "Accuracy for rfc:  0.6809117883725608\n"
     ]
    }
   ],
   "source": [
    "print(\"Confusion Matrix:\")\n",
    "print(matrix_rfc)\n",
    "report_rfc = classification_report(Y_test, Y_pred_rfc)\n",
    "print(\"Classification Report:\")\n",
    "print(report_rfc)\n",
    "accuracy_rfc=np.mean(Y_pred_rfc==Y_test)\n",
    "print(\"Accuracy for rfc: \",accuracy_rfc)"
   ]
  },
  {
   "cell_type": "code",
   "execution_count": 129,
   "metadata": {},
   "outputs": [
    {
     "name": "stdout",
     "output_type": "stream",
     "text": [
      "Confusion matrix, without normalization\n",
      "[[40786  7821]\n",
      " [17558 13371]]\n",
      "Normalized confusion matrix\n",
      "[[0.84 0.16]\n",
      " [0.57 0.43]]\n"
     ]
    },
    {
     "data": {
      "image/png": "[encoded data removed]",
      "text/plain": [
       "<Figure size 432x288 with 2 Axes>"
      ]
     },
     "metadata": {},
     "output_type": "display_data"
    },
    {
     "data": {
      "image/png": "[encoded data removed]",
      "text/plain": [
       "<Figure size 432x288 with 2 Axes>"
      ]
     },
     "metadata": {},
     "output_type": "display_data"
    }
   ],
   "source": [
    "matrix_rfc = confusion_matrix(Y_test, Y_pred_rfc)\n",
    " \n",
    "\n",
    "def plot_confusion_matrix(cm,\n",
    "                          normalize=False,\n",
    "                          title='Confusion matrix',\n",
    "                          cmap=plt.cm.Blues):\n",
    "    \"\"\"\n",
    "    This function prints and plots the confusion matrix.\n",
    "    Normalization can be applied by setting `normalize=True`.\n",
    "    \"\"\"\n",
    "    if normalize:\n",
    "        cm = cm.astype('float') / cm.sum(axis=1)[:, np.newaxis]\n",
    "        print(\"Normalized confusion matrix\")\n",
    "    else:\n",
    "        print('Confusion matrix, without normalization')\n",
    " \n",
    "    print(cm)\n",
    " \n",
    "    plt.imshow(cm, interpolation='nearest', cmap=cmap)\n",
    "    plt.title(title)\n",
    "    plt.colorbar()\n",
    " \n",
    "    fmt = '.2f' if normalize else 'd'\n",
    "    thresh = cm.max() / 2.\n",
    "    for i, j in itertools.product(range(cm.shape[0]), range(cm.shape[1])):\n",
    "        plt.text(j, i, format(cm[i, j], fmt),\n",
    "                 horizontalalignment=\"center\",\n",
    "                 color=\"white\" if cm[i, j] > thresh else \"black\")\n",
    " \n",
    "    plt.tight_layout()\n",
    "    plt.ylabel('True label')\n",
    "    plt.xlabel('Predicted label')\n",
    " \n",
    "# Compute confusion matrix\n",
    "np.set_printoptions(precision=2)\n",
    " \n",
    "# Plot non-normalized confusion matrix\n",
    "plt.figure()\n",
    "plot_confusion_matrix(matrix_rfc,\n",
    "                      title='Confusion matrix, without normalization')\n",
    " \n",
    "# Plot normalized confusion matrix\n",
    "plt.figure()\n",
    "plot_confusion_matrix(matrix_rfc, normalize=True,\n",
    "                      title='Normalized confusion matrix')\n",
    " \n",
    "plt.show()"
   ]
  },
  {
   "cell_type": "markdown",
   "metadata": {},
   "source": [
    "* We are applying \"K-Nearest Neigbor\" on the Test and Train data to predict wheather the future songs  would be a \"Hit\" or a \"Not Hit\"."
   ]
  },
  {
   "cell_type": "code",
   "execution_count": 130,
   "metadata": {},
   "outputs": [
    {
     "data": {
      "text/plain": [
       "KNeighborsClassifier(algorithm='auto', leaf_size=30, metric='minkowski',\n",
       "           metric_params=None, n_jobs=1, n_neighbors=100, p=2,\n",
       "           weights='uniform')"
      ]
     },
     "execution_count": 130,
     "metadata": {},
     "output_type": "execute_result"
    }
   ],
   "source": [
    "#knn\n",
    "from sklearn import neighbors\n",
    "knn=neighbors.KNeighborsClassifier(n_neighbors=100,weights='uniform')\n",
    "knn.fit(X_train,Y_train)"
   ]
  },
  {
   "cell_type": "code",
   "execution_count": 131,
   "metadata": {},
   "outputs": [],
   "source": [
    "#knn prediction\n",
    "Y_pred_knn=knn.predict(X_test)\n",
    "\n",
    "matrix_knn = confusion_matrix(Y_test, Y_pred_knn)"
   ]
  },
  {
   "cell_type": "code",
   "execution_count": 132,
   "metadata": {},
   "outputs": [
    {
     "name": "stdout",
     "output_type": "stream",
     "text": [
      "Confusion Matrix:\n",
      "[[42627  5980]\n",
      " [24283  6646]]\n",
      "Classification Report:\n",
      "             precision    recall  f1-score   support\n",
      "\n",
      "          0       0.64      0.88      0.74     48607\n",
      "          1       0.53      0.21      0.31     30929\n",
      "\n",
      "avg / total       0.59      0.62      0.57     79536\n",
      "\n",
      "Accuracy for rfc:  0.619505632669483\n"
     ]
    }
   ],
   "source": [
    "#Evaluation\n",
    "from sklearn.metrics import classification_report\n",
    "#predicted = model.predict(X_test)\n",
    "#matrix = confusion_matrix(Y_test, predicted)\n",
    "print(\"Confusion Matrix:\")\n",
    "print(matrix_knn)\n",
    "report_knn = classification_report(Y_test, Y_pred_knn)\n",
    "print(\"Classification Report:\")\n",
    "print(report_knn)\n",
    "accuracy_knn=np.mean(Y_pred_knn==Y_test)\n",
    "print(\"Accuracy for rfc: \",accuracy_knn)"
   ]
  },
  {
   "cell_type": "code",
   "execution_count": 133,
   "metadata": {},
   "outputs": [
    {
     "name": "stdout",
     "output_type": "stream",
     "text": [
      "Confusion matrix, without normalization\n",
      "[[42627  5980]\n",
      " [24283  6646]]\n",
      "Normalized confusion matrix\n",
      "[[0.88 0.12]\n",
      " [0.79 0.21]]\n"
     ]
    },
    {
     "data": {
      "image/png": "[encoded data removed]",
      "text/plain": [
       "<Figure size 432x288 with 2 Axes>"
      ]
     },
     "metadata": {},
     "output_type": "display_data"
    },
    {
     "data": {
      "image/png": "[encoded data removed]",
      "text/plain": [
       "<Figure size 432x288 with 2 Axes>"
      ]
     },
     "metadata": {},
     "output_type": "display_data"
    }
   ],
   "source": [
    "matrix_knn = confusion_matrix(Y_test, Y_pred_knn)\n",
    " \n",
    "\n",
    "def plot_confusion_matrix(cm,\n",
    "                          normalize=False,\n",
    "                          title='Confusion matrix',\n",
    "                          cmap=plt.cm.Blues):\n",
    "    \"\"\"\n",
    "    This function prints and plots the confusion matrix.\n",
    "    Normalization can be applied by setting `normalize=True`.\n",
    "    \"\"\"\n",
    "    if normalize:\n",
    "        cm = cm.astype('float') / cm.sum(axis=1)[:, np.newaxis]\n",
    "        print(\"Normalized confusion matrix\")\n",
    "    else:\n",
    "        print('Confusion matrix, without normalization')\n",
    " \n",
    "    print(cm)\n",
    " \n",
    "    plt.imshow(cm, interpolation='nearest', cmap=cmap)\n",
    "    plt.title(title)\n",
    "    plt.colorbar()\n",
    " \n",
    "    fmt = '.2f' if normalize else 'd'\n",
    "    thresh = cm.max() / 2.\n",
    "    for i, j in itertools.product(range(cm.shape[0]), range(cm.shape[1])):\n",
    "        plt.text(j, i, format(cm[i, j], fmt),\n",
    "                 horizontalalignment=\"center\",\n",
    "                 color=\"white\" if cm[i, j] > thresh else \"black\")\n",
    " \n",
    "    plt.tight_layout()\n",
    "    plt.ylabel('True label')\n",
    "    plt.xlabel('Predicted label')\n",
    " \n",
    "# Compute confusion matrix\n",
    "np.set_printoptions(precision=2)\n",
    " \n",
    "# Plot non-normalized confusion matrix\n",
    "plt.figure()\n",
    "plot_confusion_matrix(matrix_knn,\n",
    "                      title='Confusion matrix, without normalization')\n",
    " \n",
    "# Plot normalized confusion matrix\n",
    "plt.figure()\n",
    "plot_confusion_matrix(matrix_knn, normalize=True,\n",
    "                      title='Normalized confusion matrix')\n",
    " \n",
    "plt.show()"
   ]
  },
  {
   "cell_type": "markdown",
   "metadata": {},
   "source": [
    "* Cross- validation accuracy for every model is shown below."
   ]
  },
  {
   "cell_type": "code",
   "execution_count": 134,
   "metadata": {},
   "outputs": [
    {
     "name": "stdout",
     "output_type": "stream",
     "text": [
      "[0.66 0.68 0.63 0.66 0.69]\n",
      "0.6628081114231568\n",
      "0.6628081114231568\n"
     ]
    }
   ],
   "source": [
    "# Random forest with cv\n",
    "from sklearn.model_selection import cross_val_score\n",
    "scores = cross_val_score(rfc, X, Y, scoring='accuracy', cv=5)\n",
    "print (scores)\n",
    "print (scores.mean())\n",
    "scores_random_Forest=scores.mean()\n",
    "print(scores_random_Forest)"
   ]
  },
  {
   "cell_type": "code",
   "execution_count": 135,
   "metadata": {},
   "outputs": [
    {
     "name": "stdout",
     "output_type": "stream",
     "text": [
      "[0.62 0.63 0.61 0.63 0.64]\n",
      "0.6251344531332403\n",
      "0.6251344531332403\n"
     ]
    }
   ],
   "source": [
    "#LOgistic with CV\n",
    "\n",
    "from sklearn.model_selection import cross_val_score\n",
    "scores = cross_val_score(model, X, Y, scoring='accuracy', cv=5)\n",
    "print (scores)\n",
    "print (scores.mean())\n",
    "scores_lr=scores.mean()\n",
    "print(scores_lr)"
   ]
  },
  {
   "cell_type": "code",
   "execution_count": 136,
   "metadata": {},
   "outputs": [
    {
     "name": "stdout",
     "output_type": "stream",
     "text": [
      "[0.61 0.61 0.59 0.63 0.63]\n",
      "0.6137735262330979\n"
     ]
    }
   ],
   "source": [
    "#KNN with CV\n",
    "\n",
    "#from sklearn.model_selection import cross_val_score\n",
    "scores_knn = cross_val_score(knn, X, Y, scoring='accuracy', cv=5)\n",
    "print (scores_knn)\n",
    "print (scores_knn.mean())"
   ]
  },
  {
   "cell_type": "markdown",
   "metadata": {},
   "source": [
    "* Plotting the Accuracies for the model KNN, Logistic Regression and Random Forest."
   ]
  },
  {
   "cell_type": "code",
   "execution_count": 137,
   "metadata": {},
   "outputs": [
    {
     "data": {
      "text/plain": [
       "<matplotlib.axes._subplots.AxesSubplot at 0x7f4a978e24a8>"
      ]
     },
     "execution_count": 137,
     "metadata": {},
     "output_type": "execute_result"
    },
    {
     "data": {
      "image/png": "[encoded data removed]",
      "text/plain": [
       "<Figure size 432x288 with 1 Axes>"
      ]
     },
     "metadata": {},
     "output_type": "display_data"
    }
   ],
   "source": [
    "d = {'Model':['KNN','Logistic Regression','Random Forest'],'Accuracy':[scores_knn.mean(),scores_lr,scores_random_Forest]}\n",
    "\n",
    "agg_scores = pd.DataFrame(data = d)\n",
    "agg_scores.plot(x='Model',y='Accuracy',kind='bar')"
   ]
  },
  {
   "cell_type": "code",
   "execution_count": 138,
   "metadata": {},
   "outputs": [],
   "source": [
    "#Random forest confusion matrix with CV\n",
    "from sklearn.model_selection import cross_val_predict\n",
    "from sklearn.metrics import classification_report\n",
    "Y_pred_rfc_cv = cross_val_predict(rfc,X,Y,cv=5)"
   ]
  },
  {
   "cell_type": "code",
   "execution_count": 139,
   "metadata": {},
   "outputs": [
    {
     "name": "stdout",
     "output_type": "stream",
     "text": [
      "Confusion Matrix\n",
      "[[133463  28268]\n",
      " [ 60898  42490]]\n",
      "Classification Report:\n",
      "             precision    recall  f1-score   support\n",
      "\n",
      "          0       0.69      0.83      0.75    161731\n",
      "          1       0.60      0.41      0.49    103388\n",
      "\n",
      "avg / total       0.65      0.66      0.65    265119\n",
      "\n",
      "Accuracy for rfc:  0.6628081114231568\n"
     ]
    }
   ],
   "source": [
    "print('Confusion Matrix')\n",
    "matrix_rfc_cv = confusion_matrix(Y, Y_pred_rfc_cv)\n",
    "print(matrix_rfc_cv)\n",
    "report_rfc = classification_report(Y, Y_pred_rfc_cv)\n",
    "print(\"Classification Report:\")\n",
    "print(report_rfc)\n",
    "accuracy_rfc_cv=np.mean(Y_pred_rfc_cv==Y)\n",
    "print(\"Accuracy for rfc: \",scores_random_Forest)"
   ]
  },
  {
   "cell_type": "markdown",
   "metadata": {},
   "source": [
    "* As you can see Accuracy of the Random Forest model is higher as compared to Logistic regression and K- Nearest Neighbor."
   ]
  },
  {
   "cell_type": "code",
   "execution_count": 140,
   "metadata": {},
   "outputs": [
    {
     "data": {
      "image/png": "[encoded data removed]",
      "text/plain": [
       "<Figure size 432x288 with 1 Axes>"
      ]
     },
     "metadata": {},
     "output_type": "display_data"
    }
   ],
   "source": [
    "from sklearn.metrics import roc_curve,auc\n",
    "fpr, tpr, thresholds = roc_curve(Y,Y_pred_rfc_cv)\n",
    "roc_auc = auc(fpr, tpr)\n",
    "\n",
    "plt.title('Receiver Operating Characteristic')\n",
    "plt.plot(fpr, tpr, 'b', label = 'AUC = %0.2f' % roc_auc)\n",
    "plt.legend(loc = 'lower right')\n",
    "plt.plot([0, 1], [0, 1],'r--')\n",
    "plt.xlim([0, 1])\n",
    "plt.ylim([0, 1])\n",
    "plt.ylabel('True Positive Rate')\n",
    "plt.xlabel('False Positive Rate')\n",
    "plt.show()"
   ]
  },
  {
   "cell_type": "code",
   "execution_count": 142,
   "metadata": {},
   "outputs": [
    {
     "name": "stdout",
     "output_type": "stream",
     "text": [
      "<class 'pandas.core.frame.DataFrame'>\n",
      "Int64Index: 265119 entries, 0 to 265119\n",
      "Data columns (total 10 columns):\n",
      "acousticness        265119 non-null float64\n",
      "danceability        265119 non-null float64\n",
      "energy              265119 non-null float64\n",
      "instrumentalness    265119 non-null float64\n",
      "key                 265119 non-null int64\n",
      "liveness            265119 non-null float64\n",
      "loudness            265119 non-null float64\n",
      "speechiness         265119 non-null float64\n",
      "tempo               265119 non-null float64\n",
      "valence             265119 non-null float64\n",
      "dtypes: float64(9), int64(1)\n",
      "memory usage: 32.2 MB\n"
     ]
    }
   ],
   "source": [
    "X.info()"
   ]
  },
  {
   "cell_type": "markdown",
   "metadata": {},
   "source": [
    "# Bayesian approach to the problem"
   ]
  },
  {
   "cell_type": "code",
   "execution_count": 156,
   "metadata": {},
   "outputs": [],
   "source": [
    "%reset -sf"
   ]
  },
  {
   "cell_type": "code",
   "execution_count": 1,
   "metadata": {},
   "outputs": [],
   "source": [
    "import os\n",
    "import numpy as np\n",
    "import pandas as pd\n",
    "import matplotlib.pyplot as plt"
   ]
  },
  {
   "cell_type": "markdown",
   "metadata": {},
   "source": [
    "### some cleaning first (again)"
   ]
  },
  {
   "cell_type": "code",
   "execution_count": 2,
   "metadata": {},
   "outputs": [],
   "source": [
    "import glob \n",
    "import zipfile"
   ]
  },
  {
   "cell_type": "code",
   "execution_count": 3,
   "metadata": {},
   "outputs": [],
   "source": [
    "where_zip_is = '/home/alium/Downloads/'"
   ]
  },
  {
   "cell_type": "code",
   "execution_count": 4,
   "metadata": {},
   "outputs": [],
   "source": [
    "zip_ref = zipfile.ZipFile(where_zip_is+'spotify_data_for_students.zip', 'r')\n",
    "zip_ref.extractall('team23_working_dir')\n",
    "zip_ref.close()"
   ]
  },
  {
   "cell_type": "code",
   "execution_count": 5,
   "metadata": {},
   "outputs": [],
   "source": [
    "where_zip_is = '/home/alium/Downloads/'"
   ]
  },
  {
   "cell_type": "code",
   "execution_count": 6,
   "metadata": {},
   "outputs": [],
   "source": [
    "path_to_music = where_zip_is+'team23_working_dir/spotify_data_for_students/music_data'\n",
    "path_to_user = where_zip_is+'team23_working_dir/spotify_data_for_students/user_data'"
   ]
  },
  {
   "cell_type": "code",
   "execution_count": 7,
   "metadata": {},
   "outputs": [],
   "source": [
    "# following is borrowed from https://medium.freecodecamp.org/how-to-combine-multiple-csv-files-with-8-lines-of-code-265183e0854\n",
    "os.chdir(path_to_music)\n",
    "\n",
    "extension = 'csv'\n",
    "all_filenames = [i for i in glob.glob('*.{}'.format(extension))]\n",
    "\n",
    "bcombined_csv = pd.concat([pd.read_csv(f) for f in all_filenames ])\n",
    "bcombined_csv.to_csv( \"combined_music.csv\", index=False)"
   ]
  },
  {
   "cell_type": "code",
   "execution_count": 8,
   "metadata": {},
   "outputs": [
    {
     "name": "stdout",
     "output_type": "stream",
     "text": [
      "<class 'pandas.core.frame.DataFrame'>\n",
      "RangeIndex: 3194502 entries, 0 to 3194501\n",
      "Data columns (total 26 columns):\n",
      "Unnamed: 0          int64\n",
      "acousticness        float64\n",
      "album_id            object\n",
      "album_name          object\n",
      "analysis_url        object\n",
      "artist_ids          object\n",
      "artist_names        object\n",
      "danceability        float64\n",
      "disc_number         int64\n",
      "duration_ms         int64\n",
      "energy              float64\n",
      "instrumentalness    float64\n",
      "key                 int64\n",
      "liveness            float64\n",
      "loudness            float64\n",
      "mode                int64\n",
      "popularity          int64\n",
      "preview_url         object\n",
      "song_id             object\n",
      "song_name           object\n",
      "speechiness         float64\n",
      "tempo               float64\n",
      "time_signature      float64\n",
      "track_href          object\n",
      "track_number        int64\n",
      "valence             float64\n",
      "dtypes: float64(10), int64(7), object(9)\n",
      "memory usage: 633.7+ MB\n"
     ]
    }
   ],
   "source": [
    "bmusic = pd.read_csv(path_to_music+'/combined_music.csv')\n",
    "bmusic.info()"
   ]
  },
  {
   "cell_type": "code",
   "execution_count": 9,
   "metadata": {},
   "outputs": [],
   "source": [
    "# following is borrowed from https://medium.freecodecamp.org/how-to-combine-multiple-csv-files-with-8-lines-of-code-265183e0854\n",
    "os.chdir(path_to_user)\n",
    "\n",
    "extension = 'csv'\n",
    "all_filenames = [i for i in glob.glob('*.{}'.format(extension))]\n",
    "\n",
    "ccombined_csv = pd.concat([pd.read_csv(f) for f in all_filenames ])\n",
    "ccombined_csv.to_csv( \"combined_user.csv\", index=False)"
   ]
  },
  {
   "cell_type": "code",
   "execution_count": 10,
   "metadata": {},
   "outputs": [],
   "source": [
    "buser = pd.read_csv(path_to_user+'/combined_user.csv')"
   ]
  },
  {
   "cell_type": "code",
   "execution_count": 11,
   "metadata": {},
   "outputs": [
    {
     "data": {
      "text/html": [
       "<div>\n",
       "<style scoped>\n",
       "    .dataframe tbody tr th:only-of-type {\n",
       "        vertical-align: middle;\n",
       "    }\n",
       "\n",
       "    .dataframe tbody tr th {\n",
       "        vertical-align: top;\n",
       "    }\n",
       "\n",
       "    .dataframe thead th {\n",
       "        text-align: right;\n",
       "    }\n",
       "</style>\n",
       "<table border=\"1\" class=\"dataframe\">\n",
       "  <thead>\n",
       "    <tr style=\"text-align: right;\">\n",
       "      <th></th>\n",
       "      <th>Unnamed: 0</th>\n",
       "      <th>acousticness</th>\n",
       "      <th>danceability</th>\n",
       "      <th>database_id</th>\n",
       "      <th>energy</th>\n",
       "      <th>instrumentalness</th>\n",
       "      <th>key</th>\n",
       "      <th>liveness</th>\n",
       "      <th>loudness</th>\n",
       "      <th>mode</th>\n",
       "      <th>preview_url</th>\n",
       "      <th>song_name</th>\n",
       "      <th>speechiness</th>\n",
       "      <th>spotify_id</th>\n",
       "      <th>tempo</th>\n",
       "      <th>user_id</th>\n",
       "      <th>user_response</th>\n",
       "      <th>user_session</th>\n",
       "      <th>valence</th>\n",
       "    </tr>\n",
       "  </thead>\n",
       "  <tbody>\n",
       "    <tr>\n",
       "      <th>0</th>\n",
       "      <td>0.0</td>\n",
       "      <td>0.0904</td>\n",
       "      <td>0.374</td>\n",
       "      <td>5bb7ac930c27ee4c381dd9dc</td>\n",
       "      <td>0.850</td>\n",
       "      <td>0.000000</td>\n",
       "      <td>4</td>\n",
       "      <td>0.116</td>\n",
       "      <td>-5.657</td>\n",
       "      <td>0</td>\n",
       "      <td>NaN</td>\n",
       "      <td>NaN</td>\n",
       "      <td>0.0404</td>\n",
       "      <td>NaN</td>\n",
       "      <td>125.796</td>\n",
       "      <td>0.0</td>\n",
       "      <td>0.0</td>\n",
       "      <td>1.0</td>\n",
       "      <td>0.348</td>\n",
       "    </tr>\n",
       "    <tr>\n",
       "      <th>1</th>\n",
       "      <td>1.0</td>\n",
       "      <td>0.3530</td>\n",
       "      <td>0.505</td>\n",
       "      <td>5bb7ac960c27ee4c381dda8b</td>\n",
       "      <td>0.366</td>\n",
       "      <td>0.000014</td>\n",
       "      <td>5</td>\n",
       "      <td>0.124</td>\n",
       "      <td>-9.197</td>\n",
       "      <td>1</td>\n",
       "      <td>NaN</td>\n",
       "      <td>NaN</td>\n",
       "      <td>0.0250</td>\n",
       "      <td>NaN</td>\n",
       "      <td>100.533</td>\n",
       "      <td>0.0</td>\n",
       "      <td>0.0</td>\n",
       "      <td>1.0</td>\n",
       "      <td>0.115</td>\n",
       "    </tr>\n",
       "    <tr>\n",
       "      <th>2</th>\n",
       "      <td>2.0</td>\n",
       "      <td>0.0159</td>\n",
       "      <td>0.674</td>\n",
       "      <td>5bb7ac910c27ee4c381dd91b</td>\n",
       "      <td>0.943</td>\n",
       "      <td>0.000000</td>\n",
       "      <td>0</td>\n",
       "      <td>0.504</td>\n",
       "      <td>-3.413</td>\n",
       "      <td>1</td>\n",
       "      <td>NaN</td>\n",
       "      <td>NaN</td>\n",
       "      <td>0.0408</td>\n",
       "      <td>NaN</td>\n",
       "      <td>118.060</td>\n",
       "      <td>0.0</td>\n",
       "      <td>1.0</td>\n",
       "      <td>1.0</td>\n",
       "      <td>0.856</td>\n",
       "    </tr>\n",
       "  </tbody>\n",
       "</table>\n",
       "</div>"
      ],
      "text/plain": [
       "   Unnamed: 0  acousticness  danceability               database_id  energy  \\\n",
       "0         0.0        0.0904         0.374  5bb7ac930c27ee4c381dd9dc   0.850   \n",
       "1         1.0        0.3530         0.505  5bb7ac960c27ee4c381dda8b   0.366   \n",
       "2         2.0        0.0159         0.674  5bb7ac910c27ee4c381dd91b   0.943   \n",
       "\n",
       "   instrumentalness  key  liveness  loudness  mode preview_url song_name  \\\n",
       "0          0.000000    4     0.116    -5.657     0         NaN       NaN   \n",
       "1          0.000014    5     0.124    -9.197     1         NaN       NaN   \n",
       "2          0.000000    0     0.504    -3.413     1         NaN       NaN   \n",
       "\n",
       "   speechiness spotify_id    tempo  user_id  user_response  user_session  \\\n",
       "0       0.0404        NaN  125.796      0.0            0.0           1.0   \n",
       "1       0.0250        NaN  100.533      0.0            0.0           1.0   \n",
       "2       0.0408        NaN  118.060      0.0            1.0           1.0   \n",
       "\n",
       "   valence  \n",
       "0    0.348  \n",
       "1    0.115  \n",
       "2    0.856  "
      ]
     },
     "execution_count": 11,
     "metadata": {},
     "output_type": "execute_result"
    }
   ],
   "source": [
    "buser.head(3)"
   ]
  },
  {
   "cell_type": "code",
   "execution_count": 12,
   "metadata": {},
   "outputs": [],
   "source": [
    "user_data_clean = buser;\n",
    "music_data_clean = bmusic;"
   ]
  },
  {
   "cell_type": "code",
   "execution_count": 13,
   "metadata": {},
   "outputs": [],
   "source": [
    "user_data_relevant = user_data_clean.drop(['Unnamed: 0','user_session','user_id','database_id','preview_url','song_name','spotify_id'], axis=1);\n",
    "# user_data_relevant.info()\n",
    "music_data_relevant = music_data_clean.drop(['Unnamed: 0','album_id','album_name','analysis_url','artist_ids','artist_names','disc_number','duration_ms','preview_url','song_id','song_name','track_href','track_number'],axis=1);\n",
    "# music_data_relevant.info()"
   ]
  },
  {
   "cell_type": "code",
   "execution_count": 14,
   "metadata": {},
   "outputs": [],
   "source": [
    "user_data_relevant=user_data_relevant.sort_index(axis=1);\n",
    "music_data_relevant=music_data_relevant.sort_index(axis=1);"
   ]
  },
  {
   "cell_type": "markdown",
   "metadata": {},
   "source": [
    "### Working on user data"
   ]
  },
  {
   "cell_type": "code",
   "execution_count": 15,
   "metadata": {},
   "outputs": [
    {
     "data": {
      "image/png": "[encoded data removed]",
      "text/plain": [
       "<Figure size 720x432 with 2 Axes>"
      ]
     },
     "metadata": {},
     "output_type": "display_data"
    }
   ],
   "source": [
    "user_data_relevant_no_target=user_data_relevant.drop(['user_response'], 1)\n",
    "user_correlation=user_data_relevant_no_target.corr(method='spearman')\n",
    "\n",
    "user_columns = list(user_correlation)\n",
    "\n",
    "fig = plt.figure(figsize=(10,6))\n",
    "ax = fig.add_subplot(111)\n",
    "cax = ax.matshow(user_correlation, vmin=-1, vmax=1)\n",
    "fig.colorbar(cax,orientation='horizontal',fraction=.05)\n",
    "ticks = np.arange(0,11,1)\n",
    "ax.set_xticks(ticks)\n",
    "ax.set_yticks(ticks)\n",
    "# ax.set_xticklabels(range(1,12))\n",
    "for tick in ax.get_xticklabels():\n",
    "    tick.set_rotation(45)\n",
    "ax.set_xticklabels(user_columns)\n",
    "ax.set_yticklabels(user_columns)\n",
    "ax.set_aspect(0.5)\n",
    "plt.show()"
   ]
  },
  {
   "cell_type": "code",
   "execution_count": 16,
   "metadata": {},
   "outputs": [],
   "source": [
    "user_correlation=user_correlation.abs()\n",
    "upper = user_correlation.where(np.triu(np.ones(user_correlation.shape), k=1).astype(np.bool))\n",
    "# print(upper)"
   ]
  },
  {
   "cell_type": "code",
   "execution_count": 17,
   "metadata": {},
   "outputs": [
    {
     "name": "stdout",
     "output_type": "stream",
     "text": [
      "('valence', 'danceability') 0.5198425225128611\n",
      "('danceability', 'valence') 0.5198425225128611\n",
      "('acousticness', 'loudness') 0.5404305430839798\n",
      "('loudness', 'acousticness') 0.5404305430839798\n",
      "('energy', 'acousticness') 0.6734492103089633\n",
      "('acousticness', 'energy') 0.6734492103089633\n",
      "('energy', 'loudness') 0.7671293723859236\n",
      "('loudness', 'energy') 0.7671293723859236\n"
     ]
    }
   ],
   "source": [
    "s = user_correlation.unstack()\n",
    "so = s.sort_values(kind=\"quicksort\")\n",
    "\n",
    "for i in range(11*11):\n",
    "    if (so.values[i]>0.5 and so.values[i]!=1.0):\n",
    "        print (so.index[i],so[i])"
   ]
  },
  {
   "cell_type": "code",
   "execution_count": 18,
   "metadata": {},
   "outputs": [
    {
     "data": {
      "image/png": "[encoded data removed]",
      "text/plain": [
       "<Figure size 432x432 with 4 Axes>"
      ]
     },
     "metadata": {},
     "output_type": "display_data"
    }
   ],
   "source": [
    "pd_plot0 = user_correlation[['danceability','valence']]\n",
    "pd.plotting.scatter_matrix(pd_plot0, figsize=(6, 6))\n",
    "plt.show()"
   ]
  },
  {
   "cell_type": "code",
   "execution_count": 19,
   "metadata": {},
   "outputs": [
    {
     "data": {
      "image/png": "[encoded data removed]",
      "text/plain": [
       "<Figure size 648x648 with 9 Axes>"
      ]
     },
     "metadata": {},
     "output_type": "display_data"
    }
   ],
   "source": [
    "pd_plot1 = user_correlation[['loudness','acousticness','energy']]\n",
    "pd.plotting.scatter_matrix(pd_plot1, figsize=(9, 9))\n",
    "plt.show()"
   ]
  },
  {
   "cell_type": "markdown",
   "metadata": {},
   "source": [
    "### we are removing highly correlated features"
   ]
  },
  {
   "cell_type": "code",
   "execution_count": 20,
   "metadata": {},
   "outputs": [
    {
     "name": "stdout",
     "output_type": "stream",
     "text": [
      "['energy', 'loudness', 'valence']\n",
      "<class 'pandas.core.frame.DataFrame'>\n",
      "RangeIndex: 16116 entries, 0 to 16115\n",
      "Data columns (total 8 columns):\n",
      "acousticness        16116 non-null float64\n",
      "danceability        16116 non-null float64\n",
      "instrumentalness    16116 non-null float64\n",
      "key                 16116 non-null int64\n",
      "liveness            16116 non-null float64\n",
      "mode                16116 non-null int64\n",
      "speechiness         16116 non-null float64\n",
      "tempo               16116 non-null float64\n",
      "dtypes: float64(6), int64(2)\n",
      "memory usage: 1007.3 KB\n"
     ]
    }
   ],
   "source": [
    "to_drop = [column for column in upper.columns if any(upper[column] > 0.5)]\n",
    "print (to_drop)\n",
    "user_data_relevant_no_target_fixcorr = user_data_relevant_no_target.drop(to_drop,1)\n",
    "user_data_relevant_no_target_fixcorr.info()"
   ]
  },
  {
   "cell_type": "markdown",
   "metadata": {},
   "source": [
    "### looking at low variability "
   ]
  },
  {
   "cell_type": "code",
   "execution_count": 21,
   "metadata": {},
   "outputs": [
    {
     "data": {
      "text/plain": [
       "acousticness        False\n",
       "danceability        False\n",
       "instrumentalness    False\n",
       "key                 False\n",
       "liveness            False\n",
       "mode                False\n",
       "speechiness         False\n",
       "tempo               False\n",
       "dtype: bool"
      ]
     },
     "execution_count": 21,
     "metadata": {},
     "output_type": "execute_result"
    }
   ],
   "source": [
    "(user_data_relevant_no_target_fixcorr > 0).all()"
   ]
  },
  {
   "cell_type": "code",
   "execution_count": 22,
   "metadata": {},
   "outputs": [
    {
     "data": {
      "text/html": [
       "<div>\n",
       "<style scoped>\n",
       "    .dataframe tbody tr th:only-of-type {\n",
       "        vertical-align: middle;\n",
       "    }\n",
       "\n",
       "    .dataframe tbody tr th {\n",
       "        vertical-align: top;\n",
       "    }\n",
       "\n",
       "    .dataframe thead th {\n",
       "        text-align: right;\n",
       "    }\n",
       "</style>\n",
       "<table border=\"1\" class=\"dataframe\">\n",
       "  <thead>\n",
       "    <tr style=\"text-align: right;\">\n",
       "      <th></th>\n",
       "      <th>acousticness</th>\n",
       "      <th>danceability</th>\n",
       "      <th>instrumentalness</th>\n",
       "      <th>key</th>\n",
       "      <th>liveness</th>\n",
       "      <th>mode</th>\n",
       "      <th>speechiness</th>\n",
       "      <th>tempo</th>\n",
       "    </tr>\n",
       "  </thead>\n",
       "  <tbody>\n",
       "    <tr>\n",
       "      <th>0</th>\n",
       "      <td>0.0904</td>\n",
       "      <td>0.374</td>\n",
       "      <td>0.000000</td>\n",
       "      <td>4</td>\n",
       "      <td>0.1160</td>\n",
       "      <td>0</td>\n",
       "      <td>0.0404</td>\n",
       "      <td>125.796</td>\n",
       "    </tr>\n",
       "    <tr>\n",
       "      <th>1</th>\n",
       "      <td>0.3530</td>\n",
       "      <td>0.505</td>\n",
       "      <td>0.000014</td>\n",
       "      <td>5</td>\n",
       "      <td>0.1240</td>\n",
       "      <td>1</td>\n",
       "      <td>0.0250</td>\n",
       "      <td>100.533</td>\n",
       "    </tr>\n",
       "    <tr>\n",
       "      <th>2</th>\n",
       "      <td>0.0159</td>\n",
       "      <td>0.674</td>\n",
       "      <td>0.000000</td>\n",
       "      <td>0</td>\n",
       "      <td>0.5040</td>\n",
       "      <td>1</td>\n",
       "      <td>0.0408</td>\n",
       "      <td>118.060</td>\n",
       "    </tr>\n",
       "    <tr>\n",
       "      <th>3</th>\n",
       "      <td>0.1860</td>\n",
       "      <td>0.602</td>\n",
       "      <td>0.000000</td>\n",
       "      <td>0</td>\n",
       "      <td>0.1220</td>\n",
       "      <td>1</td>\n",
       "      <td>0.0365</td>\n",
       "      <td>118.026</td>\n",
       "    </tr>\n",
       "    <tr>\n",
       "      <th>4</th>\n",
       "      <td>0.0876</td>\n",
       "      <td>0.626</td>\n",
       "      <td>0.000077</td>\n",
       "      <td>8</td>\n",
       "      <td>0.0801</td>\n",
       "      <td>0</td>\n",
       "      <td>0.0339</td>\n",
       "      <td>149.990</td>\n",
       "    </tr>\n",
       "  </tbody>\n",
       "</table>\n",
       "</div>"
      ],
      "text/plain": [
       "   acousticness  danceability  instrumentalness  key  liveness  mode  \\\n",
       "0        0.0904         0.374          0.000000    4    0.1160     0   \n",
       "1        0.3530         0.505          0.000014    5    0.1240     1   \n",
       "2        0.0159         0.674          0.000000    0    0.5040     1   \n",
       "3        0.1860         0.602          0.000000    0    0.1220     1   \n",
       "4        0.0876         0.626          0.000077    8    0.0801     0   \n",
       "\n",
       "   speechiness    tempo  \n",
       "0       0.0404  125.796  \n",
       "1       0.0250  100.533  \n",
       "2       0.0408  118.060  \n",
       "3       0.0365  118.026  \n",
       "4       0.0339  149.990  "
      ]
     },
     "execution_count": 22,
     "metadata": {},
     "output_type": "execute_result"
    }
   ],
   "source": [
    "# user_data_relevant_no_target_fixcorr.plot(kind='hist',subplots=True, sharex=False, sharey=False, figsize=(12,12))\n",
    "# plt.show()\n",
    "user_data_relevant_no_target_fixcorr.head()"
   ]
  },
  {
   "cell_type": "code",
   "execution_count": 23,
   "metadata": {},
   "outputs": [],
   "source": [
    "from sklearn.preprocessing import MinMaxScaler"
   ]
  },
  {
   "cell_type": "code",
   "execution_count": 24,
   "metadata": {},
   "outputs": [],
   "source": [
    "scaler = MinMaxScaler()\n",
    "# print(scaler.fit(user_data_relevant_no_target_fixcorr))\n",
    "# print(scaler.data_max_)\n",
    "# print(scaler.transform(user_data_relevant_no_target_fixcorr))"
   ]
  },
  {
   "cell_type": "code",
   "execution_count": 25,
   "metadata": {},
   "outputs": [
    {
     "data": {
      "image/png": "[encoded data removed]",
      "text/plain": [
       "<Figure size 864x864 with 8 Axes>"
      ]
     },
     "metadata": {},
     "output_type": "display_data"
    }
   ],
   "source": [
    "scaled_user_data_relevant_no_target_fixcorr = pd.DataFrame(scaler.fit_transform(user_data_relevant_no_target_fixcorr),columns = user_data_relevant_no_target_fixcorr.columns)\n",
    "scaled_user_data_relevant_no_target_fixcorr.plot(legend=True,kind='hist',subplots=True, sharex=False, sharey=False, figsize=(12,12))\n",
    "plt.show()"
   ]
  },
  {
   "cell_type": "code",
   "execution_count": 26,
   "metadata": {},
   "outputs": [
    {
     "data": {
      "text/html": [
       "<div>\n",
       "<style scoped>\n",
       "    .dataframe tbody tr th:only-of-type {\n",
       "        vertical-align: middle;\n",
       "    }\n",
       "\n",
       "    .dataframe tbody tr th {\n",
       "        vertical-align: top;\n",
       "    }\n",
       "\n",
       "    .dataframe thead th {\n",
       "        text-align: right;\n",
       "    }\n",
       "</style>\n",
       "<table border=\"1\" class=\"dataframe\">\n",
       "  <thead>\n",
       "    <tr style=\"text-align: right;\">\n",
       "      <th></th>\n",
       "      <th>acousticness</th>\n",
       "      <th>danceability</th>\n",
       "      <th>instrumentalness</th>\n",
       "      <th>key</th>\n",
       "      <th>liveness</th>\n",
       "      <th>mode</th>\n",
       "      <th>speechiness</th>\n",
       "      <th>tempo</th>\n",
       "    </tr>\n",
       "  </thead>\n",
       "  <tbody>\n",
       "    <tr>\n",
       "      <th>0</th>\n",
       "      <td>0.090854</td>\n",
       "      <td>0.389583</td>\n",
       "      <td>0.000000</td>\n",
       "      <td>0.363636</td>\n",
       "      <td>0.119097</td>\n",
       "      <td>0.0</td>\n",
       "      <td>0.054521</td>\n",
       "      <td>0.604908</td>\n",
       "    </tr>\n",
       "    <tr>\n",
       "      <th>1</th>\n",
       "      <td>0.354774</td>\n",
       "      <td>0.526042</td>\n",
       "      <td>0.000014</td>\n",
       "      <td>0.454545</td>\n",
       "      <td>0.127310</td>\n",
       "      <td>1.0</td>\n",
       "      <td>0.033738</td>\n",
       "      <td>0.483427</td>\n",
       "    </tr>\n",
       "    <tr>\n",
       "      <th>2</th>\n",
       "      <td>0.015980</td>\n",
       "      <td>0.702083</td>\n",
       "      <td>0.000000</td>\n",
       "      <td>0.000000</td>\n",
       "      <td>0.517454</td>\n",
       "      <td>1.0</td>\n",
       "      <td>0.055061</td>\n",
       "      <td>0.567708</td>\n",
       "    </tr>\n",
       "    <tr>\n",
       "      <th>3</th>\n",
       "      <td>0.186935</td>\n",
       "      <td>0.627083</td>\n",
       "      <td>0.000000</td>\n",
       "      <td>0.000000</td>\n",
       "      <td>0.125257</td>\n",
       "      <td>1.0</td>\n",
       "      <td>0.049258</td>\n",
       "      <td>0.567545</td>\n",
       "    </tr>\n",
       "    <tr>\n",
       "      <th>4</th>\n",
       "      <td>0.088040</td>\n",
       "      <td>0.652083</td>\n",
       "      <td>0.000079</td>\n",
       "      <td>0.727273</td>\n",
       "      <td>0.082238</td>\n",
       "      <td>0.0</td>\n",
       "      <td>0.045749</td>\n",
       "      <td>0.721248</td>\n",
       "    </tr>\n",
       "  </tbody>\n",
       "</table>\n",
       "</div>"
      ],
      "text/plain": [
       "   acousticness  danceability  instrumentalness       key  liveness  mode  \\\n",
       "0      0.090854      0.389583          0.000000  0.363636  0.119097   0.0   \n",
       "1      0.354774      0.526042          0.000014  0.454545  0.127310   1.0   \n",
       "2      0.015980      0.702083          0.000000  0.000000  0.517454   1.0   \n",
       "3      0.186935      0.627083          0.000000  0.000000  0.125257   1.0   \n",
       "4      0.088040      0.652083          0.000079  0.727273  0.082238   0.0   \n",
       "\n",
       "   speechiness     tempo  \n",
       "0     0.054521  0.604908  \n",
       "1     0.033738  0.483427  \n",
       "2     0.055061  0.567708  \n",
       "3     0.049258  0.567545  \n",
       "4     0.045749  0.721248  "
      ]
     },
     "execution_count": 26,
     "metadata": {},
     "output_type": "execute_result"
    }
   ],
   "source": [
    "scaled_user_data_relevant_no_target_fixcorr.head()"
   ]
  },
  {
   "cell_type": "code",
   "execution_count": 27,
   "metadata": {},
   "outputs": [
    {
     "data": {
      "text/plain": [
       "acousticness         True\n",
       "danceability        False\n",
       "instrumentalness     True\n",
       "key                  True\n",
       "liveness            False\n",
       "mode                 True\n",
       "speechiness         False\n",
       "tempo               False\n",
       "dtype: bool"
      ]
     },
     "execution_count": 27,
     "metadata": {},
     "output_type": "execute_result"
    }
   ],
   "source": [
    "scaled_user_data_relevant_no_target_fixcorr.var() > .1"
   ]
  },
  {
   "cell_type": "markdown",
   "metadata": {},
   "source": [
    "### drop low variance features"
   ]
  },
  {
   "cell_type": "code",
   "execution_count": 28,
   "metadata": {},
   "outputs": [
    {
     "data": {
      "text/html": [
       "<div>\n",
       "<style scoped>\n",
       "    .dataframe tbody tr th:only-of-type {\n",
       "        vertical-align: middle;\n",
       "    }\n",
       "\n",
       "    .dataframe tbody tr th {\n",
       "        vertical-align: top;\n",
       "    }\n",
       "\n",
       "    .dataframe thead th {\n",
       "        text-align: right;\n",
       "    }\n",
       "</style>\n",
       "<table border=\"1\" class=\"dataframe\">\n",
       "  <thead>\n",
       "    <tr style=\"text-align: right;\">\n",
       "      <th></th>\n",
       "      <th>acousticness</th>\n",
       "      <th>instrumentalness</th>\n",
       "      <th>key</th>\n",
       "      <th>mode</th>\n",
       "    </tr>\n",
       "  </thead>\n",
       "  <tbody>\n",
       "    <tr>\n",
       "      <th>0</th>\n",
       "      <td>0.090854</td>\n",
       "      <td>0.000000</td>\n",
       "      <td>0.363636</td>\n",
       "      <td>0.0</td>\n",
       "    </tr>\n",
       "    <tr>\n",
       "      <th>1</th>\n",
       "      <td>0.354774</td>\n",
       "      <td>0.000014</td>\n",
       "      <td>0.454545</td>\n",
       "      <td>1.0</td>\n",
       "    </tr>\n",
       "    <tr>\n",
       "      <th>2</th>\n",
       "      <td>0.015980</td>\n",
       "      <td>0.000000</td>\n",
       "      <td>0.000000</td>\n",
       "      <td>1.0</td>\n",
       "    </tr>\n",
       "    <tr>\n",
       "      <th>3</th>\n",
       "      <td>0.186935</td>\n",
       "      <td>0.000000</td>\n",
       "      <td>0.000000</td>\n",
       "      <td>1.0</td>\n",
       "    </tr>\n",
       "    <tr>\n",
       "      <th>4</th>\n",
       "      <td>0.088040</td>\n",
       "      <td>0.000079</td>\n",
       "      <td>0.727273</td>\n",
       "      <td>0.0</td>\n",
       "    </tr>\n",
       "  </tbody>\n",
       "</table>\n",
       "</div>"
      ],
      "text/plain": [
       "   acousticness  instrumentalness       key  mode\n",
       "0      0.090854          0.000000  0.363636   0.0\n",
       "1      0.354774          0.000014  0.454545   1.0\n",
       "2      0.015980          0.000000  0.000000   1.0\n",
       "3      0.186935          0.000000  0.000000   1.0\n",
       "4      0.088040          0.000079  0.727273   0.0"
      ]
     },
     "execution_count": 28,
     "metadata": {},
     "output_type": "execute_result"
    }
   ],
   "source": [
    "lowvardrop_scaled_user_data_relevant_no_target_fixcorr = scaled_user_data_relevant_no_target_fixcorr.loc[:, scaled_user_data_relevant_no_target_fixcorr.var() > .1]\n",
    "lowvardrop_scaled_user_data_relevant_no_target_fixcorr.head()"
   ]
  },
  {
   "cell_type": "markdown",
   "metadata": {},
   "source": [
    "### add back the target feature"
   ]
  },
  {
   "cell_type": "code",
   "execution_count": 29,
   "metadata": {},
   "outputs": [
    {
     "name": "stderr",
     "output_type": "stream",
     "text": [
      "/home/alium/anaconda3/lib/python3.6/site-packages/ipykernel_launcher.py:2: SettingWithCopyWarning: \n",
      "A value is trying to be set on a copy of a slice from a DataFrame.\n",
      "Try using .loc[row_indexer,col_indexer] = value instead\n",
      "\n",
      "See the caveats in the documentation: http://pandas.pydata.org/pandas-docs/stable/indexing.html#indexing-view-versus-copy\n",
      "  \n"
     ]
    },
    {
     "data": {
      "text/html": [
       "<div>\n",
       "<style scoped>\n",
       "    .dataframe tbody tr th:only-of-type {\n",
       "        vertical-align: middle;\n",
       "    }\n",
       "\n",
       "    .dataframe tbody tr th {\n",
       "        vertical-align: top;\n",
       "    }\n",
       "\n",
       "    .dataframe thead th {\n",
       "        text-align: right;\n",
       "    }\n",
       "</style>\n",
       "<table border=\"1\" class=\"dataframe\">\n",
       "  <thead>\n",
       "    <tr style=\"text-align: right;\">\n",
       "      <th></th>\n",
       "      <th>acousticness</th>\n",
       "      <th>instrumentalness</th>\n",
       "      <th>key</th>\n",
       "      <th>mode</th>\n",
       "      <th>user_response</th>\n",
       "    </tr>\n",
       "  </thead>\n",
       "  <tbody>\n",
       "    <tr>\n",
       "      <th>0</th>\n",
       "      <td>0.090854</td>\n",
       "      <td>0.000000</td>\n",
       "      <td>0.363636</td>\n",
       "      <td>0.0</td>\n",
       "      <td>0.0</td>\n",
       "    </tr>\n",
       "    <tr>\n",
       "      <th>1</th>\n",
       "      <td>0.354774</td>\n",
       "      <td>0.000014</td>\n",
       "      <td>0.454545</td>\n",
       "      <td>1.0</td>\n",
       "      <td>0.0</td>\n",
       "    </tr>\n",
       "    <tr>\n",
       "      <th>2</th>\n",
       "      <td>0.015980</td>\n",
       "      <td>0.000000</td>\n",
       "      <td>0.000000</td>\n",
       "      <td>1.0</td>\n",
       "      <td>1.0</td>\n",
       "    </tr>\n",
       "    <tr>\n",
       "      <th>3</th>\n",
       "      <td>0.186935</td>\n",
       "      <td>0.000000</td>\n",
       "      <td>0.000000</td>\n",
       "      <td>1.0</td>\n",
       "      <td>0.0</td>\n",
       "    </tr>\n",
       "    <tr>\n",
       "      <th>4</th>\n",
       "      <td>0.088040</td>\n",
       "      <td>0.000079</td>\n",
       "      <td>0.727273</td>\n",
       "      <td>0.0</td>\n",
       "      <td>0.0</td>\n",
       "    </tr>\n",
       "  </tbody>\n",
       "</table>\n",
       "</div>"
      ],
      "text/plain": [
       "   acousticness  instrumentalness       key  mode  user_response\n",
       "0      0.090854          0.000000  0.363636   0.0            0.0\n",
       "1      0.354774          0.000014  0.454545   1.0            0.0\n",
       "2      0.015980          0.000000  0.000000   1.0            1.0\n",
       "3      0.186935          0.000000  0.000000   1.0            0.0\n",
       "4      0.088040          0.000079  0.727273   0.0            0.0"
      ]
     },
     "execution_count": 29,
     "metadata": {},
     "output_type": "execute_result"
    }
   ],
   "source": [
    "cleaned_user_data = lowvardrop_scaled_user_data_relevant_no_target_fixcorr\n",
    "cleaned_user_data['user_response']=user_data_clean[['user_response']]\n",
    "cleaned_user_data.head()"
   ]
  },
  {
   "cell_type": "markdown",
   "metadata": {},
   "source": [
    "### User data ready"
   ]
  },
  {
   "cell_type": "markdown",
   "metadata": {},
   "source": [
    "### Working on music data"
   ]
  },
  {
   "cell_type": "code",
   "execution_count": 30,
   "metadata": {
    "scrolled": true
   },
   "outputs": [
    {
     "data": {
      "text/plain": [
       "acousticness         0\n",
       "danceability        13\n",
       "energy               0\n",
       "instrumentalness     0\n",
       "key                  0\n",
       "liveness             0\n",
       "loudness             0\n",
       "mode                 0\n",
       "popularity           0\n",
       "speechiness         13\n",
       "tempo                0\n",
       "time_signature      13\n",
       "valence             13\n",
       "dtype: int64"
      ]
     },
     "execution_count": 30,
     "metadata": {},
     "output_type": "execute_result"
    }
   ],
   "source": [
    "music_data_relevant.isnull().sum()"
   ]
  },
  {
   "cell_type": "code",
   "execution_count": 31,
   "metadata": {},
   "outputs": [],
   "source": [
    "music_data_relevant=music_data_relevant.dropna()"
   ]
  },
  {
   "cell_type": "code",
   "execution_count": 32,
   "metadata": {},
   "outputs": [
    {
     "data": {
      "image/png": "[encoded data removed]",
      "text/plain": [
       "<Figure size 720x432 with 2 Axes>"
      ]
     },
     "metadata": {},
     "output_type": "display_data"
    }
   ],
   "source": [
    "music_data_relevant_no_target=music_data_relevant.drop(['popularity'], 1)\n",
    "music_correlation=music_data_relevant_no_target.corr(method='spearman')\n",
    "\n",
    "music_columns = list(music_correlation)\n",
    "\n",
    "fig = plt.figure(figsize=(10,6))\n",
    "ax = fig.add_subplot(111)\n",
    "cax = ax.matshow(music_correlation, vmin=-1, vmax=1)\n",
    "fig.colorbar(cax,orientation='horizontal',fraction=.05)\n",
    "ticks = np.arange(0,12,1)\n",
    "ax.set_xticks(ticks)\n",
    "ax.set_yticks(ticks)\n",
    "# ax.set_xticklabels(range(1,13))\n",
    "for tick in ax.get_xticklabels():\n",
    "    tick.set_rotation(45)\n",
    "ax.set_xticklabels(music_columns)\n",
    "ax.set_yticklabels(music_columns)\n",
    "ax.set_aspect(0.5)\n",
    "plt.show()"
   ]
  },
  {
   "cell_type": "code",
   "execution_count": 33,
   "metadata": {},
   "outputs": [],
   "source": [
    "music_correlation=music_correlation.abs()\n",
    "upper_music = music_correlation.where(np.triu(np.ones(music_correlation.shape), k=1).astype(np.bool))\n",
    "# print(upper)"
   ]
  },
  {
   "cell_type": "code",
   "execution_count": 34,
   "metadata": {},
   "outputs": [
    {
     "name": "stdout",
     "output_type": "stream",
     "text": [
      "('valence', 'danceability') 0.49465201376030615\n",
      "('danceability', 'valence') 0.49465201376030615\n",
      "('loudness', 'acousticness') 0.5235807719820347\n",
      "('acousticness', 'loudness') 0.5235807719820347\n",
      "('acousticness', 'energy') 0.6921828160683263\n",
      "('energy', 'acousticness') 0.6921828160683263\n",
      "('loudness', 'energy') 0.7622535909101322\n",
      "('energy', 'loudness') 0.7622535909101322\n"
     ]
    }
   ],
   "source": [
    "sm = music_correlation.unstack()\n",
    "som = sm.sort_values(kind=\"quicksort\")\n",
    "# print (som.values)\n",
    "for i in range(12*12):\n",
    "    if (som.values[i]>0.4 and som.values[i]!=1.0):\n",
    "        print (som.index[i],som[i])"
   ]
  },
  {
   "cell_type": "code",
   "execution_count": 35,
   "metadata": {},
   "outputs": [
    {
     "data": {
      "image/png": "[encoded data removed]",
      "text/plain": [
       "<Figure size 432x432 with 4 Axes>"
      ]
     },
     "metadata": {},
     "output_type": "display_data"
    }
   ],
   "source": [
    "pd_plot2 = music_correlation[['valence', 'danceability']]\n",
    "pd.plotting.scatter_matrix(pd_plot2, figsize=(6, 6))\n",
    "plt.show()"
   ]
  },
  {
   "cell_type": "code",
   "execution_count": 36,
   "metadata": {},
   "outputs": [
    {
     "data": {
      "image/png": "[encoded data removed]",
      "text/plain": [
       "<Figure size 648x648 with 9 Axes>"
      ]
     },
     "metadata": {},
     "output_type": "display_data"
    }
   ],
   "source": [
    "pd_plot3 = music_correlation[['loudness', 'acousticness','energy']]\n",
    "pd.plotting.scatter_matrix(pd_plot3, figsize=(9, 9))\n",
    "plt.show()"
   ]
  },
  {
   "cell_type": "markdown",
   "metadata": {},
   "source": [
    "### we are removing highly correlated features"
   ]
  },
  {
   "cell_type": "code",
   "execution_count": 37,
   "metadata": {},
   "outputs": [
    {
     "name": "stdout",
     "output_type": "stream",
     "text": [
      "['energy', 'loudness', 'valence']\n",
      "<class 'pandas.core.frame.DataFrame'>\n",
      "Int64Index: 3194489 entries, 0 to 3194501\n",
      "Data columns (total 9 columns):\n",
      "acousticness        float64\n",
      "danceability        float64\n",
      "instrumentalness    float64\n",
      "key                 int64\n",
      "liveness            float64\n",
      "mode                int64\n",
      "speechiness         float64\n",
      "tempo               float64\n",
      "time_signature      float64\n",
      "dtypes: float64(7), int64(2)\n",
      "memory usage: 243.7 MB\n"
     ]
    }
   ],
   "source": [
    "to_drop_music = [column for column in upper_music.columns if any(upper_music[column] > 0.45)]\n",
    "print (to_drop_music)\n",
    "music_data_relevant_no_target_fixcorr = music_data_relevant_no_target.drop(to_drop_music,1)\n",
    "music_data_relevant_no_target_fixcorr.info()"
   ]
  },
  {
   "cell_type": "markdown",
   "metadata": {},
   "source": [
    "### looking at low variability "
   ]
  },
  {
   "cell_type": "code",
   "execution_count": 38,
   "metadata": {},
   "outputs": [
    {
     "data": {
      "text/plain": [
       "acousticness        False\n",
       "danceability        False\n",
       "instrumentalness    False\n",
       "key                 False\n",
       "liveness            False\n",
       "mode                False\n",
       "speechiness         False\n",
       "tempo               False\n",
       "time_signature      False\n",
       "dtype: bool"
      ]
     },
     "execution_count": 38,
     "metadata": {},
     "output_type": "execute_result"
    }
   ],
   "source": [
    "(music_data_relevant_no_target_fixcorr > 0).all()"
   ]
  },
  {
   "cell_type": "code",
   "execution_count": 39,
   "metadata": {},
   "outputs": [
    {
     "data": {
      "text/html": [
       "<div>\n",
       "<style scoped>\n",
       "    .dataframe tbody tr th:only-of-type {\n",
       "        vertical-align: middle;\n",
       "    }\n",
       "\n",
       "    .dataframe tbody tr th {\n",
       "        vertical-align: top;\n",
       "    }\n",
       "\n",
       "    .dataframe thead th {\n",
       "        text-align: right;\n",
       "    }\n",
       "</style>\n",
       "<table border=\"1\" class=\"dataframe\">\n",
       "  <thead>\n",
       "    <tr style=\"text-align: right;\">\n",
       "      <th></th>\n",
       "      <th>acousticness</th>\n",
       "      <th>danceability</th>\n",
       "      <th>instrumentalness</th>\n",
       "      <th>key</th>\n",
       "      <th>liveness</th>\n",
       "      <th>mode</th>\n",
       "      <th>speechiness</th>\n",
       "      <th>tempo</th>\n",
       "      <th>time_signature</th>\n",
       "    </tr>\n",
       "  </thead>\n",
       "  <tbody>\n",
       "    <tr>\n",
       "      <th>0</th>\n",
       "      <td>0.0227</td>\n",
       "      <td>0.739</td>\n",
       "      <td>0.000001</td>\n",
       "      <td>7</td>\n",
       "      <td>0.2290</td>\n",
       "      <td>1</td>\n",
       "      <td>0.0329</td>\n",
       "      <td>124.016</td>\n",
       "      <td>4.0</td>\n",
       "    </tr>\n",
       "    <tr>\n",
       "      <th>1</th>\n",
       "      <td>0.2530</td>\n",
       "      <td>0.811</td>\n",
       "      <td>0.000000</td>\n",
       "      <td>5</td>\n",
       "      <td>0.1480</td>\n",
       "      <td>1</td>\n",
       "      <td>0.1290</td>\n",
       "      <td>128.066</td>\n",
       "      <td>4.0</td>\n",
       "    </tr>\n",
       "    <tr>\n",
       "      <th>2</th>\n",
       "      <td>0.9560</td>\n",
       "      <td>0.176</td>\n",
       "      <td>0.000120</td>\n",
       "      <td>0</td>\n",
       "      <td>0.1580</td>\n",
       "      <td>1</td>\n",
       "      <td>0.0365</td>\n",
       "      <td>84.741</td>\n",
       "      <td>1.0</td>\n",
       "    </tr>\n",
       "    <tr>\n",
       "      <th>3</th>\n",
       "      <td>0.1370</td>\n",
       "      <td>0.866</td>\n",
       "      <td>0.000000</td>\n",
       "      <td>5</td>\n",
       "      <td>0.0843</td>\n",
       "      <td>1</td>\n",
       "      <td>0.0767</td>\n",
       "      <td>118.523</td>\n",
       "      <td>4.0</td>\n",
       "    </tr>\n",
       "    <tr>\n",
       "      <th>4</th>\n",
       "      <td>0.8040</td>\n",
       "      <td>0.607</td>\n",
       "      <td>0.000000</td>\n",
       "      <td>9</td>\n",
       "      <td>0.0760</td>\n",
       "      <td>1</td>\n",
       "      <td>0.0404</td>\n",
       "      <td>110.378</td>\n",
       "      <td>4.0</td>\n",
       "    </tr>\n",
       "  </tbody>\n",
       "</table>\n",
       "</div>"
      ],
      "text/plain": [
       "   acousticness  danceability  instrumentalness  key  liveness  mode  \\\n",
       "0        0.0227         0.739          0.000001    7    0.2290     1   \n",
       "1        0.2530         0.811          0.000000    5    0.1480     1   \n",
       "2        0.9560         0.176          0.000120    0    0.1580     1   \n",
       "3        0.1370         0.866          0.000000    5    0.0843     1   \n",
       "4        0.8040         0.607          0.000000    9    0.0760     1   \n",
       "\n",
       "   speechiness    tempo  time_signature  \n",
       "0       0.0329  124.016             4.0  \n",
       "1       0.1290  128.066             4.0  \n",
       "2       0.0365   84.741             1.0  \n",
       "3       0.0767  118.523             4.0  \n",
       "4       0.0404  110.378             4.0  "
      ]
     },
     "execution_count": 39,
     "metadata": {},
     "output_type": "execute_result"
    }
   ],
   "source": [
    "# music_data_relevant_no_target_fixcorr.plot(kind='hist',subplots=True, sharex=False, sharey=False, figsize=(12,12))\n",
    "# plt.show()\n",
    "music_data_relevant_no_target_fixcorr.head()"
   ]
  },
  {
   "cell_type": "code",
   "execution_count": 40,
   "metadata": {},
   "outputs": [
    {
     "name": "stdout",
     "output_type": "stream",
     "text": [
      "<class 'pandas.core.frame.DataFrame'>\n",
      "Int64Index: 3194489 entries, 0 to 3194501\n",
      "Data columns (total 9 columns):\n",
      "acousticness        float64\n",
      "danceability        float64\n",
      "instrumentalness    float64\n",
      "key                 int64\n",
      "liveness            float64\n",
      "mode                int64\n",
      "speechiness         float64\n",
      "tempo               float64\n",
      "time_signature      float64\n",
      "dtypes: float64(7), int64(2)\n",
      "memory usage: 243.7 MB\n"
     ]
    }
   ],
   "source": [
    "music_data_relevant_no_target_fixcorr.info()"
   ]
  },
  {
   "cell_type": "code",
   "execution_count": 41,
   "metadata": {},
   "outputs": [
    {
     "data": {
      "image/png": "[encoded data removed]",
      "text/plain": [
       "<Figure size 864x864 with 9 Axes>"
      ]
     },
     "metadata": {},
     "output_type": "display_data"
    }
   ],
   "source": [
    "scaled_music_data_relevant_no_target_fixcorr = pd.DataFrame(scaler.fit_transform(music_data_relevant_no_target_fixcorr),columns = music_data_relevant_no_target_fixcorr.columns)\n",
    "scaled_music_data_relevant_no_target_fixcorr.plot(legend=True,kind='hist',subplots=True, sharex=False, sharey=False, figsize=(12,12))\n",
    "plt.show()"
   ]
  },
  {
   "cell_type": "code",
   "execution_count": 42,
   "metadata": {},
   "outputs": [
    {
     "data": {
      "text/html": [
       "<div>\n",
       "<style scoped>\n",
       "    .dataframe tbody tr th:only-of-type {\n",
       "        vertical-align: middle;\n",
       "    }\n",
       "\n",
       "    .dataframe tbody tr th {\n",
       "        vertical-align: top;\n",
       "    }\n",
       "\n",
       "    .dataframe thead th {\n",
       "        text-align: right;\n",
       "    }\n",
       "</style>\n",
       "<table border=\"1\" class=\"dataframe\">\n",
       "  <thead>\n",
       "    <tr style=\"text-align: right;\">\n",
       "      <th></th>\n",
       "      <th>acousticness</th>\n",
       "      <th>danceability</th>\n",
       "      <th>instrumentalness</th>\n",
       "      <th>key</th>\n",
       "      <th>liveness</th>\n",
       "      <th>mode</th>\n",
       "      <th>speechiness</th>\n",
       "      <th>tempo</th>\n",
       "      <th>time_signature</th>\n",
       "    </tr>\n",
       "  </thead>\n",
       "  <tbody>\n",
       "    <tr>\n",
       "      <th>0</th>\n",
       "      <td>0.022791</td>\n",
       "      <td>0.746465</td>\n",
       "      <td>0.000001</td>\n",
       "      <td>0.636364</td>\n",
       "      <td>0.2290</td>\n",
       "      <td>1.0</td>\n",
       "      <td>0.033988</td>\n",
       "      <td>0.496090</td>\n",
       "      <td>0.8</td>\n",
       "    </tr>\n",
       "    <tr>\n",
       "      <th>1</th>\n",
       "      <td>0.254016</td>\n",
       "      <td>0.819192</td>\n",
       "      <td>0.000000</td>\n",
       "      <td>0.454545</td>\n",
       "      <td>0.1480</td>\n",
       "      <td>1.0</td>\n",
       "      <td>0.133264</td>\n",
       "      <td>0.512291</td>\n",
       "      <td>0.8</td>\n",
       "    </tr>\n",
       "    <tr>\n",
       "      <th>2</th>\n",
       "      <td>0.959839</td>\n",
       "      <td>0.177778</td>\n",
       "      <td>0.000120</td>\n",
       "      <td>0.000000</td>\n",
       "      <td>0.1580</td>\n",
       "      <td>1.0</td>\n",
       "      <td>0.037707</td>\n",
       "      <td>0.338982</td>\n",
       "      <td>0.2</td>\n",
       "    </tr>\n",
       "    <tr>\n",
       "      <th>3</th>\n",
       "      <td>0.137550</td>\n",
       "      <td>0.874747</td>\n",
       "      <td>0.000000</td>\n",
       "      <td>0.454545</td>\n",
       "      <td>0.0843</td>\n",
       "      <td>1.0</td>\n",
       "      <td>0.079236</td>\n",
       "      <td>0.474117</td>\n",
       "      <td>0.8</td>\n",
       "    </tr>\n",
       "    <tr>\n",
       "      <th>4</th>\n",
       "      <td>0.807229</td>\n",
       "      <td>0.613131</td>\n",
       "      <td>0.000000</td>\n",
       "      <td>0.818182</td>\n",
       "      <td>0.0760</td>\n",
       "      <td>1.0</td>\n",
       "      <td>0.041736</td>\n",
       "      <td>0.441535</td>\n",
       "      <td>0.8</td>\n",
       "    </tr>\n",
       "  </tbody>\n",
       "</table>\n",
       "</div>"
      ],
      "text/plain": [
       "   acousticness  danceability  instrumentalness       key  liveness  mode  \\\n",
       "0      0.022791      0.746465          0.000001  0.636364    0.2290   1.0   \n",
       "1      0.254016      0.819192          0.000000  0.454545    0.1480   1.0   \n",
       "2      0.959839      0.177778          0.000120  0.000000    0.1580   1.0   \n",
       "3      0.137550      0.874747          0.000000  0.454545    0.0843   1.0   \n",
       "4      0.807229      0.613131          0.000000  0.818182    0.0760   1.0   \n",
       "\n",
       "   speechiness     tempo  time_signature  \n",
       "0     0.033988  0.496090             0.8  \n",
       "1     0.133264  0.512291             0.8  \n",
       "2     0.037707  0.338982             0.2  \n",
       "3     0.079236  0.474117             0.8  \n",
       "4     0.041736  0.441535             0.8  "
      ]
     },
     "execution_count": 42,
     "metadata": {},
     "output_type": "execute_result"
    }
   ],
   "source": [
    "scaled_music_data_relevant_no_target_fixcorr.head()"
   ]
  },
  {
   "cell_type": "code",
   "execution_count": 43,
   "metadata": {},
   "outputs": [
    {
     "data": {
      "text/plain": [
       "acousticness         True\n",
       "danceability        False\n",
       "instrumentalness     True\n",
       "key                  True\n",
       "liveness            False\n",
       "mode                 True\n",
       "speechiness         False\n",
       "tempo               False\n",
       "time_signature      False\n",
       "dtype: bool"
      ]
     },
     "execution_count": 43,
     "metadata": {},
     "output_type": "execute_result"
    }
   ],
   "source": [
    "scaled_music_data_relevant_no_target_fixcorr.var() > .1"
   ]
  },
  {
   "cell_type": "markdown",
   "metadata": {},
   "source": [
    "### drop low variance"
   ]
  },
  {
   "cell_type": "code",
   "execution_count": 44,
   "metadata": {},
   "outputs": [
    {
     "data": {
      "text/html": [
       "<div>\n",
       "<style scoped>\n",
       "    .dataframe tbody tr th:only-of-type {\n",
       "        vertical-align: middle;\n",
       "    }\n",
       "\n",
       "    .dataframe tbody tr th {\n",
       "        vertical-align: top;\n",
       "    }\n",
       "\n",
       "    .dataframe thead th {\n",
       "        text-align: right;\n",
       "    }\n",
       "</style>\n",
       "<table border=\"1\" class=\"dataframe\">\n",
       "  <thead>\n",
       "    <tr style=\"text-align: right;\">\n",
       "      <th></th>\n",
       "      <th>acousticness</th>\n",
       "      <th>instrumentalness</th>\n",
       "      <th>key</th>\n",
       "      <th>mode</th>\n",
       "    </tr>\n",
       "  </thead>\n",
       "  <tbody>\n",
       "    <tr>\n",
       "      <th>0</th>\n",
       "      <td>0.022791</td>\n",
       "      <td>0.000001</td>\n",
       "      <td>0.636364</td>\n",
       "      <td>1.0</td>\n",
       "    </tr>\n",
       "    <tr>\n",
       "      <th>1</th>\n",
       "      <td>0.254016</td>\n",
       "      <td>0.000000</td>\n",
       "      <td>0.454545</td>\n",
       "      <td>1.0</td>\n",
       "    </tr>\n",
       "    <tr>\n",
       "      <th>2</th>\n",
       "      <td>0.959839</td>\n",
       "      <td>0.000120</td>\n",
       "      <td>0.000000</td>\n",
       "      <td>1.0</td>\n",
       "    </tr>\n",
       "    <tr>\n",
       "      <th>3</th>\n",
       "      <td>0.137550</td>\n",
       "      <td>0.000000</td>\n",
       "      <td>0.454545</td>\n",
       "      <td>1.0</td>\n",
       "    </tr>\n",
       "    <tr>\n",
       "      <th>4</th>\n",
       "      <td>0.807229</td>\n",
       "      <td>0.000000</td>\n",
       "      <td>0.818182</td>\n",
       "      <td>1.0</td>\n",
       "    </tr>\n",
       "  </tbody>\n",
       "</table>\n",
       "</div>"
      ],
      "text/plain": [
       "   acousticness  instrumentalness       key  mode\n",
       "0      0.022791          0.000001  0.636364   1.0\n",
       "1      0.254016          0.000000  0.454545   1.0\n",
       "2      0.959839          0.000120  0.000000   1.0\n",
       "3      0.137550          0.000000  0.454545   1.0\n",
       "4      0.807229          0.000000  0.818182   1.0"
      ]
     },
     "execution_count": 44,
     "metadata": {},
     "output_type": "execute_result"
    }
   ],
   "source": [
    "lowvardrop_scaled_music_data_relevant_no_target_fixcorr = scaled_music_data_relevant_no_target_fixcorr.loc[:, scaled_music_data_relevant_no_target_fixcorr.var() > .1]\n",
    "lowvardrop_scaled_music_data_relevant_no_target_fixcorr.head()"
   ]
  },
  {
   "cell_type": "markdown",
   "metadata": {},
   "source": [
    "### add back the target feature"
   ]
  },
  {
   "cell_type": "code",
   "execution_count": 45,
   "metadata": {},
   "outputs": [
    {
     "name": "stderr",
     "output_type": "stream",
     "text": [
      "/home/alium/anaconda3/lib/python3.6/site-packages/ipykernel_launcher.py:2: SettingWithCopyWarning: \n",
      "A value is trying to be set on a copy of a slice from a DataFrame.\n",
      "Try using .loc[row_indexer,col_indexer] = value instead\n",
      "\n",
      "See the caveats in the documentation: http://pandas.pydata.org/pandas-docs/stable/indexing.html#indexing-view-versus-copy\n",
      "  \n"
     ]
    },
    {
     "data": {
      "text/html": [
       "<div>\n",
       "<style scoped>\n",
       "    .dataframe tbody tr th:only-of-type {\n",
       "        vertical-align: middle;\n",
       "    }\n",
       "\n",
       "    .dataframe tbody tr th {\n",
       "        vertical-align: top;\n",
       "    }\n",
       "\n",
       "    .dataframe thead th {\n",
       "        text-align: right;\n",
       "    }\n",
       "</style>\n",
       "<table border=\"1\" class=\"dataframe\">\n",
       "  <thead>\n",
       "    <tr style=\"text-align: right;\">\n",
       "      <th></th>\n",
       "      <th>acousticness</th>\n",
       "      <th>instrumentalness</th>\n",
       "      <th>key</th>\n",
       "      <th>mode</th>\n",
       "      <th>popularity</th>\n",
       "    </tr>\n",
       "  </thead>\n",
       "  <tbody>\n",
       "    <tr>\n",
       "      <th>0</th>\n",
       "      <td>0.022791</td>\n",
       "      <td>0.000001</td>\n",
       "      <td>0.636364</td>\n",
       "      <td>1.0</td>\n",
       "      <td>0.988235</td>\n",
       "    </tr>\n",
       "    <tr>\n",
       "      <th>1</th>\n",
       "      <td>0.254016</td>\n",
       "      <td>0.000000</td>\n",
       "      <td>0.454545</td>\n",
       "      <td>1.0</td>\n",
       "      <td>0.847059</td>\n",
       "    </tr>\n",
       "    <tr>\n",
       "      <th>2</th>\n",
       "      <td>0.959839</td>\n",
       "      <td>0.000120</td>\n",
       "      <td>0.000000</td>\n",
       "      <td>1.0</td>\n",
       "      <td>0.811765</td>\n",
       "    </tr>\n",
       "    <tr>\n",
       "      <th>3</th>\n",
       "      <td>0.137550</td>\n",
       "      <td>0.000000</td>\n",
       "      <td>0.454545</td>\n",
       "      <td>1.0</td>\n",
       "      <td>0.788235</td>\n",
       "    </tr>\n",
       "    <tr>\n",
       "      <th>4</th>\n",
       "      <td>0.807229</td>\n",
       "      <td>0.000000</td>\n",
       "      <td>0.818182</td>\n",
       "      <td>1.0</td>\n",
       "      <td>0.800000</td>\n",
       "    </tr>\n",
       "  </tbody>\n",
       "</table>\n",
       "</div>"
      ],
      "text/plain": [
       "   acousticness  instrumentalness       key  mode  popularity\n",
       "0      0.022791          0.000001  0.636364   1.0    0.988235\n",
       "1      0.254016          0.000000  0.454545   1.0    0.847059\n",
       "2      0.959839          0.000120  0.000000   1.0    0.811765\n",
       "3      0.137550          0.000000  0.454545   1.0    0.788235\n",
       "4      0.807229          0.000000  0.818182   1.0    0.800000"
      ]
     },
     "execution_count": 45,
     "metadata": {},
     "output_type": "execute_result"
    }
   ],
   "source": [
    "lowvardrop_scaled_music_data_relevant_with_target_fixcorr = lowvardrop_scaled_music_data_relevant_no_target_fixcorr\n",
    "lowvardrop_scaled_music_data_relevant_with_target_fixcorr['popularity']=music_data_clean[['popularity']]\n",
    "\n",
    "cleaned_music_data = pd.DataFrame(scaler.fit_transform(lowvardrop_scaled_music_data_relevant_with_target_fixcorr),columns = lowvardrop_scaled_music_data_relevant_with_target_fixcorr.columns)\n",
    "cleaned_music_data.head()"
   ]
  },
  {
   "cell_type": "markdown",
   "metadata": {},
   "source": [
    "### Music data ready"
   ]
  },
  {
   "cell_type": "code",
   "execution_count": 46,
   "metadata": {},
   "outputs": [
    {
     "data": {
      "image/png": "[encoded data removed]",
      "text/plain": [
       "<Figure size 432x288 with 5 Axes>"
      ]
     },
     "metadata": {},
     "output_type": "display_data"
    }
   ],
   "source": [
    "cleaned_music_data.plot(kind='density', subplots=True, sharex=False)\n",
    "# plt.savefig(\"1.png\")\n",
    "plt.show()"
   ]
  },
  {
   "cell_type": "code",
   "execution_count": 276,
   "metadata": {},
   "outputs": [
    {
     "data": {
      "image/png": "[encoded data removed]",
      "text/plain": [
       "<Figure size 432x288 with 5 Axes>"
      ]
     },
     "metadata": {},
     "output_type": "display_data"
    }
   ],
   "source": [
    "cleaned_user_data.plot(kind='density', subplots=True, sharex=False)\n",
    "# plt.savefig(\"2.png\")\n",
    "plt.show()"
   ]
  },
  {
   "cell_type": "markdown",
   "metadata": {},
   "source": [
    "## PYMC3 Bayesian linear regresion"
   ]
  },
  {
   "cell_type": "code",
   "execution_count": 46,
   "metadata": {},
   "outputs": [],
   "source": [
    "user_features = cleaned_user_data.get(['acousticness','instrumentalness','key','mode'])\n",
    "user_target = cleaned_user_data.get(['user_response'])"
   ]
  },
  {
   "cell_type": "code",
   "execution_count": 47,
   "metadata": {},
   "outputs": [],
   "source": [
    "music_features = cleaned_music_data.get(['acousticness','instrumentalness','key','mode'])\n",
    "music_target = cleaned_music_data.get(['popularity'])"
   ]
  },
  {
   "cell_type": "code",
   "execution_count": 48,
   "metadata": {},
   "outputs": [
    {
     "name": "stderr",
     "output_type": "stream",
     "text": [
      "WARNING (theano.tensor.blas): Using NumPy C-API based implementation for BLAS functions.\n",
      "/home/alium/anaconda3/lib/python3.6/site-packages/h5py/__init__.py:36: FutureWarning: Conversion of the second argument of issubdtype from `float` to `np.floating` is deprecated. In future, it will be treated as `np.float64 == np.dtype(float).type`.\n",
      "  from ._conv import register_converters as _register_converters\n"
     ]
    }
   ],
   "source": [
    "import pymc3 as pm;"
   ]
  },
  {
   "cell_type": "code",
   "execution_count": 51,
   "metadata": {},
   "outputs": [],
   "source": [
    "linear_Bayesian = pm.Model()\n",
    "\n",
    "with linear_Bayesian:\n",
    "    alpha = pm.Normal('alpha', mu=0, sd=10)\n",
    "    beta = pm.Normal('beta', mu=0, sd=10, shape=4)\n",
    "    sigma = pm.HalfNormal('sigma', sd=1)\n",
    "    mu = alpha + beta*music_features\n",
    "    Y_obs = pm.Normal('Y_obs', mu=mu, sd=sigma, observed=music_target)"
   ]
  },
  {
   "cell_type": "code",
   "execution_count": 51,
   "metadata": {},
   "outputs": [
    {
     "name": "stderr",
     "output_type": "stream",
     "text": [
      "/home/alium/anaconda3/lib/python3.6/site-packages/pymc3/tuning/starting.py:61: UserWarning: find_MAP should not be used to initialize the NUTS sampler, simply call pymc3.sample() and it will automatically initialize NUTS in a better way.\n",
      "  warnings.warn('find_MAP should not be used to initialize the NUTS sampler, simply call pymc3.sample() and it will automatically initialize NUTS in a better way.')\n",
      "logp = 4.9677e+06, ||grad|| = 48,098: 100%|██████████| 15/15 [00:17<00:00,  1.45it/s]        \n"
     ]
    },
    {
     "data": {
      "text/plain": [
       "{'alpha': array(0.12369012),\n",
       " 'beta': array([-0.02360802, -0.04234041, -0.00947091, -0.00507947]),\n",
       " 'sigma': array(0.13521127),\n",
       " 'sigma_log__': array(-2.00091679)}"
      ]
     },
     "execution_count": 51,
     "metadata": {},
     "output_type": "execute_result"
    }
   ],
   "source": [
    "map_estimate = pm.find_MAP(model=linear_Bayesian)\n",
    "\n",
    "map_estimate"
   ]
  },
  {
   "cell_type": "code",
   "execution_count": null,
   "metadata": {},
   "outputs": [
    {
     "name": "stderr",
     "output_type": "stream",
     "text": [
      "Only 100 samples in chain.\n",
      "Auto-assigning NUTS sampler...\n",
      "Initializing NUTS using jitter+adapt_diag...\n",
      "Multiprocess sampling (2 chains in 2 jobs)\n",
      "NUTS: [sigma, beta, alpha]\n",
      "Sampling 2 chains:   8%|▊         | 99/1200 [04:25<52:34,  2.87s/draws]  "
     ]
    }
   ],
   "source": [
    "with linear_Bayesian:\n",
    "    linear_Bayesian_trace = pm.sample(100, chains=2, nuts_kwargs=dict(target_accept=.95))"
   ]
  },
  {
   "cell_type": "code",
   "execution_count": null,
   "metadata": {},
   "outputs": [],
   "source": [
    "pm.summary(linear_Bayesian_trace).round(5)"
   ]
  },
  {
   "cell_type": "code",
   "execution_count": null,
   "metadata": {},
   "outputs": [],
   "source": [
    "pm.traceplot(linear_Bayesian_trace);\n",
    "# plt.savefig(\"3.png\")\n",
    "plt.show()"
   ]
  },
  {
   "cell_type": "code",
   "execution_count": null,
   "metadata": {},
   "outputs": [],
   "source": [
    "with linear_Bayesian:\n",
    "    linear_Bayesian_trace_slicing = pm.sample(5000, step=pm.Slice())"
   ]
  },
  {
   "cell_type": "code",
   "execution_count": null,
   "metadata": {},
   "outputs": [],
   "source": [
    "pm.summary(linear_Bayesian_trace_slicing).round(5)"
   ]
  },
  {
   "cell_type": "code",
   "execution_count": null,
   "metadata": {},
   "outputs": [],
   "source": [
    "pm.traceplot(linear_Bayesian_trace_slicing);\n",
    "# plt.savefig(\"4.png\")\n",
    "plt.show()"
   ]
  },
  {
   "cell_type": "markdown",
   "metadata": {},
   "source": [
    "## PYMC3 Bayesian logistic linear regresion"
   ]
  },
  {
   "cell_type": "code",
   "execution_count": null,
   "metadata": {},
   "outputs": [],
   "source": [
    "basic_logistic_model = pm.Model()\n",
    "\n",
    "with basic_logistic_model:\n",
    "    alpha = pm.Normal('alpha', mu=0, sd=10)\n",
    "    beta = pm.Normal('beta', mu=0, sd=10, shape=4)\n",
    "    sigma = pm.HalfNormal('sigma', sd=1)\n",
    "    mu = pm.math.sigmoid(alpha+beta*user_features)\n",
    "    Y_obs = pm.Normal('Y_obs', mu=mu, sd=sigma, observed=user_target)"
   ]
  },
  {
   "cell_type": "code",
   "execution_count": null,
   "metadata": {},
   "outputs": [],
   "source": [
    "map_estimate = pm.find_MAP(model=basic_logistic_model)\n",
    "\n",
    "map_estimate"
   ]
  },
  {
   "cell_type": "code",
   "execution_count": null,
   "metadata": {},
   "outputs": [],
   "source": [
    "with basic_logistic_model:\n",
    "\n",
    "    # instantiate sampler\n",
    "    step = pm.Slice()\n",
    "\n",
    "    # draw 5000 posterior samples\n",
    "    trace = pm.sample(5000, step=step)"
   ]
  },
  {
   "cell_type": "code",
   "execution_count": null,
   "metadata": {},
   "outputs": [],
   "source": [
    "pm.traceplot(trace);\n",
    "# plt.savefig(\"5.png\")\n",
    "plt.show()"
   ]
  },
  {
   "cell_type": "code",
   "execution_count": null,
   "metadata": {},
   "outputs": [],
   "source": [
    "pm.summary(trace).round(2)"
   ]
  },
  {
   "cell_type": "code",
   "execution_count": null,
   "metadata": {},
   "outputs": [],
   "source": []
  },
  {
   "cell_type": "code",
   "execution_count": null,
   "metadata": {},
   "outputs": [],
   "source": []
  },
  {
   "cell_type": "code",
   "execution_count": null,
   "metadata": {},
   "outputs": [],
   "source": []
  },
  {
   "cell_type": "code",
   "execution_count": null,
   "metadata": {},
   "outputs": [],
   "source": []
  },
  {
   "cell_type": "markdown",
   "metadata": {},
   "source": []
  }
 ],
 "metadata": {
  "kernelspec": {
   "display_name": "Python 3",
   "language": "python",
   "name": "python3"
  },
  "language_info": {
   "codemirror_mode": {
    "name": "ipython",
    "version": 3
   },
   "file_extension": ".py",
   "mimetype": "text/x-python",
   "name": "python",
   "nbconvert_exporter": "python",
   "pygments_lexer": "ipython3",
   "version": "3.6.4"
  }
 },
 "nbformat": 4,
 "nbformat_minor": 2
}
